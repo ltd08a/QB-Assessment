{
 "cells": [
  {
   "cell_type": "code",
   "execution_count": 1,
   "id": "f668dc46-130b-46b0-ba22-6140d9052f65",
   "metadata": {},
   "outputs": [
    {
     "data": {
      "text/html": [
       "<div>\n",
       "<style scoped>\n",
       "    .dataframe tbody tr th:only-of-type {\n",
       "        vertical-align: middle;\n",
       "    }\n",
       "\n",
       "    .dataframe tbody tr th {\n",
       "        vertical-align: top;\n",
       "    }\n",
       "\n",
       "    .dataframe thead th {\n",
       "        text-align: right;\n",
       "    }\n",
       "</style>\n",
       "<table border=\"1\" class=\"dataframe\">\n",
       "  <thead>\n",
       "    <tr style=\"text-align: right;\">\n",
       "      <th></th>\n",
       "      <th>Rk</th>\n",
       "      <th>Player</th>\n",
       "      <th>Age</th>\n",
       "      <th>Team</th>\n",
       "      <th>Pos</th>\n",
       "      <th>G</th>\n",
       "      <th>GS</th>\n",
       "      <th>QBrec</th>\n",
       "      <th>Cmp</th>\n",
       "      <th>Att</th>\n",
       "      <th>...</th>\n",
       "      <th>Sk</th>\n",
       "      <th>Yds.1</th>\n",
       "      <th>Sk%</th>\n",
       "      <th>NY/A</th>\n",
       "      <th>ANY/A</th>\n",
       "      <th>4QC</th>\n",
       "      <th>GWD</th>\n",
       "      <th>Awards</th>\n",
       "      <th>Year</th>\n",
       "      <th>QBR</th>\n",
       "    </tr>\n",
       "  </thead>\n",
       "  <tbody>\n",
       "    <tr>\n",
       "      <th>0</th>\n",
       "      <td>1.0</td>\n",
       "      <td>Kurt Warner</td>\n",
       "      <td>30.0</td>\n",
       "      <td>STL</td>\n",
       "      <td>QB</td>\n",
       "      <td>16.0</td>\n",
       "      <td>16.0</td>\n",
       "      <td>14-2-0</td>\n",
       "      <td>375.0</td>\n",
       "      <td>546.0</td>\n",
       "      <td>...</td>\n",
       "      <td>38.0</td>\n",
       "      <td>233.0</td>\n",
       "      <td>6.51</td>\n",
       "      <td>7.87</td>\n",
       "      <td>7.41</td>\n",
       "      <td>1.0</td>\n",
       "      <td>2.0</td>\n",
       "      <td>PB,AP-1,AP MVP-1,AP OPoY-2</td>\n",
       "      <td>2001</td>\n",
       "      <td>NaN</td>\n",
       "    </tr>\n",
       "    <tr>\n",
       "      <th>1</th>\n",
       "      <td>2.0</td>\n",
       "      <td>Peyton Manning</td>\n",
       "      <td>25.0</td>\n",
       "      <td>IND</td>\n",
       "      <td>QB</td>\n",
       "      <td>16.0</td>\n",
       "      <td>16.0</td>\n",
       "      <td>2000-06-10 00:00:00</td>\n",
       "      <td>343.0</td>\n",
       "      <td>547.0</td>\n",
       "      <td>...</td>\n",
       "      <td>29.0</td>\n",
       "      <td>232.0</td>\n",
       "      <td>5.03</td>\n",
       "      <td>6.77</td>\n",
       "      <td>5.88</td>\n",
       "      <td>0.0</td>\n",
       "      <td>0.0</td>\n",
       "      <td>NaN</td>\n",
       "      <td>2001</td>\n",
       "      <td>NaN</td>\n",
       "    </tr>\n",
       "    <tr>\n",
       "      <th>2</th>\n",
       "      <td>3.0</td>\n",
       "      <td>Brett Favre</td>\n",
       "      <td>32.0</td>\n",
       "      <td>GNB</td>\n",
       "      <td>QB</td>\n",
       "      <td>16.0</td>\n",
       "      <td>16.0</td>\n",
       "      <td>2000-12-04 00:00:00</td>\n",
       "      <td>314.0</td>\n",
       "      <td>510.0</td>\n",
       "      <td>...</td>\n",
       "      <td>22.0</td>\n",
       "      <td>151.0</td>\n",
       "      <td>4.14</td>\n",
       "      <td>7.09</td>\n",
       "      <td>7.02</td>\n",
       "      <td>1.0</td>\n",
       "      <td>2.0</td>\n",
       "      <td>PB,AP-2,AP MVP-3,AP OPoY-3</td>\n",
       "      <td>2001</td>\n",
       "      <td>NaN</td>\n",
       "    </tr>\n",
       "    <tr>\n",
       "      <th>3</th>\n",
       "      <td>4.0</td>\n",
       "      <td>Aaron Brooks</td>\n",
       "      <td>25.0</td>\n",
       "      <td>NOR</td>\n",
       "      <td>QB</td>\n",
       "      <td>16.0</td>\n",
       "      <td>16.0</td>\n",
       "      <td>2000-07-09 00:00:00</td>\n",
       "      <td>312.0</td>\n",
       "      <td>558.0</td>\n",
       "      <td>...</td>\n",
       "      <td>50.0</td>\n",
       "      <td>330.0</td>\n",
       "      <td>8.22</td>\n",
       "      <td>5.76</td>\n",
       "      <td>4.99</td>\n",
       "      <td>2.0</td>\n",
       "      <td>3.0</td>\n",
       "      <td>NaN</td>\n",
       "      <td>2001</td>\n",
       "      <td>NaN</td>\n",
       "    </tr>\n",
       "    <tr>\n",
       "      <th>4</th>\n",
       "      <td>5.0</td>\n",
       "      <td>Rich Gannon</td>\n",
       "      <td>36.0</td>\n",
       "      <td>OAK</td>\n",
       "      <td>QB</td>\n",
       "      <td>16.0</td>\n",
       "      <td>16.0</td>\n",
       "      <td>2000-10-06 00:00:00</td>\n",
       "      <td>361.0</td>\n",
       "      <td>549.0</td>\n",
       "      <td>...</td>\n",
       "      <td>27.0</td>\n",
       "      <td>155.0</td>\n",
       "      <td>4.69</td>\n",
       "      <td>6.38</td>\n",
       "      <td>6.61</td>\n",
       "      <td>1.0</td>\n",
       "      <td>2.0</td>\n",
       "      <td>PB</td>\n",
       "      <td>2001</td>\n",
       "      <td>NaN</td>\n",
       "    </tr>\n",
       "  </tbody>\n",
       "</table>\n",
       "<p>5 rows × 34 columns</p>\n",
       "</div>"
      ],
      "text/plain": [
       "    Rk          Player   Age Team Pos     G    GS                QBrec    Cmp  \\\n",
       "0  1.0     Kurt Warner  30.0  STL  QB  16.0  16.0               14-2-0  375.0   \n",
       "1  2.0  Peyton Manning  25.0  IND  QB  16.0  16.0  2000-06-10 00:00:00  343.0   \n",
       "2  3.0     Brett Favre  32.0  GNB  QB  16.0  16.0  2000-12-04 00:00:00  314.0   \n",
       "3  4.0    Aaron Brooks  25.0  NOR  QB  16.0  16.0  2000-07-09 00:00:00  312.0   \n",
       "4  5.0     Rich Gannon  36.0  OAK  QB  16.0  16.0  2000-10-06 00:00:00  361.0   \n",
       "\n",
       "     Att  ...    Sk  Yds.1   Sk%  NY/A  ANY/A  4QC  GWD  \\\n",
       "0  546.0  ...  38.0  233.0  6.51  7.87   7.41  1.0  2.0   \n",
       "1  547.0  ...  29.0  232.0  5.03  6.77   5.88  0.0  0.0   \n",
       "2  510.0  ...  22.0  151.0  4.14  7.09   7.02  1.0  2.0   \n",
       "3  558.0  ...  50.0  330.0  8.22  5.76   4.99  2.0  3.0   \n",
       "4  549.0  ...  27.0  155.0  4.69  6.38   6.61  1.0  2.0   \n",
       "\n",
       "                       Awards  Year  QBR  \n",
       "0  PB,AP-1,AP MVP-1,AP OPoY-2  2001  NaN  \n",
       "1                         NaN  2001  NaN  \n",
       "2  PB,AP-2,AP MVP-3,AP OPoY-3  2001  NaN  \n",
       "3                         NaN  2001  NaN  \n",
       "4                          PB  2001  NaN  \n",
       "\n",
       "[5 rows x 34 columns]"
      ]
     },
     "execution_count": 1,
     "metadata": {},
     "output_type": "execute_result"
    }
   ],
   "source": [
    "# Import necessary libraries\n",
    "import pandas as pd\n",
    "from datetime import datetime\n",
    "import numpy as np\n",
    "\n",
    "# Import the excel file into a DataFrame\n",
    "df = pd.read_excel('Passing_Stats.xlsx')\n",
    "\n",
    "df.head()"
   ]
  },
  {
   "cell_type": "code",
   "execution_count": 2,
   "id": "a9964201-d5f4-4aa6-821a-bb36f43733ec",
   "metadata": {},
   "outputs": [
    {
     "name": "stdout",
     "output_type": "stream",
     "text": [
      "<class 'pandas.core.frame.DataFrame'>\n",
      "RangeIndex: 2354 entries, 0 to 2353\n",
      "Data columns (total 34 columns):\n",
      " #   Column  Non-Null Count  Dtype  \n",
      "---  ------  --------------  -----  \n",
      " 0   Rk      2332 non-null   float64\n",
      " 1   Player  2354 non-null   object \n",
      " 2   Age     2332 non-null   float64\n",
      " 3   Team    2332 non-null   object \n",
      " 4   Pos     2332 non-null   object \n",
      " 5   G       2332 non-null   float64\n",
      " 6   GS      2332 non-null   float64\n",
      " 7   QBrec   1750 non-null   object \n",
      " 8   Cmp     2332 non-null   float64\n",
      " 9   Att     2332 non-null   float64\n",
      " 10  Cmp%    2285 non-null   float64\n",
      " 11  Yds     2332 non-null   float64\n",
      " 12  TD      2332 non-null   float64\n",
      " 13  TD%     2285 non-null   float64\n",
      " 14  Int     2332 non-null   float64\n",
      " 15  Int%    2285 non-null   float64\n",
      " 16  1D      2184 non-null   float64\n",
      " 17  Succ%   2259 non-null   float64\n",
      " 18  Lng     2332 non-null   float64\n",
      " 19  Y/A     2285 non-null   float64\n",
      " 20  AY/A    2285 non-null   float64\n",
      " 21  Y/C     1961 non-null   float64\n",
      " 22  Y/G     2354 non-null   float64\n",
      " 23  Rate    2285 non-null   float64\n",
      " 24  Sk      2332 non-null   float64\n",
      " 25  Yds.1   2332 non-null   float64\n",
      " 26  Sk%     2354 non-null   float64\n",
      " 27  NY/A    2354 non-null   float64\n",
      " 28  ANY/A   2354 non-null   float64\n",
      " 29  4QC     2332 non-null   float64\n",
      " 30  GWD     2332 non-null   float64\n",
      " 31  Awards  347 non-null    object \n",
      " 32  Year    2354 non-null   int64  \n",
      " 33  QBR     1627 non-null   float64\n",
      "dtypes: float64(28), int64(1), object(5)\n",
      "memory usage: 625.4+ KB\n"
     ]
    }
   ],
   "source": [
    "# Inspect the DataFrame\n",
    "df.info()"
   ]
  },
  {
   "cell_type": "code",
   "execution_count": 3,
   "id": "774002e0-4636-45ac-9d60-8e50b0af2997",
   "metadata": {},
   "outputs": [
    {
     "name": "stdout",
     "output_type": "stream",
     "text": [
      "<class 'pandas.core.frame.DataFrame'>\n",
      "Int64Index: 963 entries, 0 to 2289\n",
      "Data columns (total 34 columns):\n",
      " #   Column  Non-Null Count  Dtype  \n",
      "---  ------  --------------  -----  \n",
      " 0   Rk      963 non-null    float64\n",
      " 1   Player  963 non-null    object \n",
      " 2   Age     963 non-null    float64\n",
      " 3   Team    963 non-null    object \n",
      " 4   Pos     963 non-null    object \n",
      " 5   G       963 non-null    float64\n",
      " 6   GS      963 non-null    float64\n",
      " 7   QBrec   963 non-null    object \n",
      " 8   Cmp     963 non-null    float64\n",
      " 9   Att     963 non-null    float64\n",
      " 10  Cmp%    963 non-null    float64\n",
      " 11  Yds     963 non-null    float64\n",
      " 12  TD      963 non-null    float64\n",
      " 13  TD%     963 non-null    float64\n",
      " 14  Int     963 non-null    float64\n",
      " 15  Int%    963 non-null    float64\n",
      " 16  1D      963 non-null    float64\n",
      " 17  Succ%   963 non-null    float64\n",
      " 18  Lng     963 non-null    float64\n",
      " 19  Y/A     963 non-null    float64\n",
      " 20  AY/A    963 non-null    float64\n",
      " 21  Y/C     963 non-null    float64\n",
      " 22  Y/G     963 non-null    float64\n",
      " 23  Rate    963 non-null    float64\n",
      " 24  Sk      963 non-null    float64\n",
      " 25  Yds.1   963 non-null    float64\n",
      " 26  Sk%     963 non-null    float64\n",
      " 27  NY/A    963 non-null    float64\n",
      " 28  ANY/A   963 non-null    float64\n",
      " 29  4QC     963 non-null    float64\n",
      " 30  GWD     963 non-null    float64\n",
      " 31  Awards  233 non-null    object \n",
      " 32  Year    963 non-null    int64  \n",
      " 33  QBR     732 non-null    float64\n",
      "dtypes: float64(28), int64(1), object(5)\n",
      "memory usage: 263.3+ KB\n"
     ]
    }
   ],
   "source": [
    "# Drop all rows where the value in the 'Att' column is less than 100\n",
    "df = df[df['Att'] >= 100]\n",
    "\n",
    "df.info()"
   ]
  },
  {
   "cell_type": "code",
   "execution_count": 4,
   "id": "0c135308-1711-4542-a38b-a267397463ae",
   "metadata": {},
   "outputs": [
    {
     "data": {
      "text/html": [
       "<div>\n",
       "<style scoped>\n",
       "    .dataframe tbody tr th:only-of-type {\n",
       "        vertical-align: middle;\n",
       "    }\n",
       "\n",
       "    .dataframe tbody tr th {\n",
       "        vertical-align: top;\n",
       "    }\n",
       "\n",
       "    .dataframe thead th {\n",
       "        text-align: right;\n",
       "    }\n",
       "</style>\n",
       "<table border=\"1\" class=\"dataframe\">\n",
       "  <thead>\n",
       "    <tr style=\"text-align: right;\">\n",
       "      <th></th>\n",
       "      <th>Player</th>\n",
       "      <th>Age</th>\n",
       "      <th>Team</th>\n",
       "      <th>Pos</th>\n",
       "      <th>G</th>\n",
       "      <th>GS</th>\n",
       "      <th>QBrec</th>\n",
       "      <th>Cmp</th>\n",
       "      <th>Att</th>\n",
       "      <th>Cmp%</th>\n",
       "      <th>...</th>\n",
       "      <th>Sk</th>\n",
       "      <th>Yds.1</th>\n",
       "      <th>Sk%</th>\n",
       "      <th>NY/A</th>\n",
       "      <th>ANY/A</th>\n",
       "      <th>4QC</th>\n",
       "      <th>GWD</th>\n",
       "      <th>Awards</th>\n",
       "      <th>Year</th>\n",
       "      <th>QBR</th>\n",
       "    </tr>\n",
       "  </thead>\n",
       "  <tbody>\n",
       "    <tr>\n",
       "      <th>0</th>\n",
       "      <td>Kurt Warner</td>\n",
       "      <td>30.0</td>\n",
       "      <td>STL</td>\n",
       "      <td>QB</td>\n",
       "      <td>16.0</td>\n",
       "      <td>16.0</td>\n",
       "      <td>14-2-0</td>\n",
       "      <td>375.0</td>\n",
       "      <td>546.0</td>\n",
       "      <td>68.7</td>\n",
       "      <td>...</td>\n",
       "      <td>38.0</td>\n",
       "      <td>233.0</td>\n",
       "      <td>6.51</td>\n",
       "      <td>7.87</td>\n",
       "      <td>7.41</td>\n",
       "      <td>1.0</td>\n",
       "      <td>2.0</td>\n",
       "      <td>PB,AP-1,AP MVP-1,AP OPoY-2</td>\n",
       "      <td>2001</td>\n",
       "      <td>NaN</td>\n",
       "    </tr>\n",
       "    <tr>\n",
       "      <th>1</th>\n",
       "      <td>Peyton Manning</td>\n",
       "      <td>25.0</td>\n",
       "      <td>IND</td>\n",
       "      <td>QB</td>\n",
       "      <td>16.0</td>\n",
       "      <td>16.0</td>\n",
       "      <td>2000-06-10 00:00:00</td>\n",
       "      <td>343.0</td>\n",
       "      <td>547.0</td>\n",
       "      <td>62.7</td>\n",
       "      <td>...</td>\n",
       "      <td>29.0</td>\n",
       "      <td>232.0</td>\n",
       "      <td>5.03</td>\n",
       "      <td>6.77</td>\n",
       "      <td>5.88</td>\n",
       "      <td>0.0</td>\n",
       "      <td>0.0</td>\n",
       "      <td>NaN</td>\n",
       "      <td>2001</td>\n",
       "      <td>NaN</td>\n",
       "    </tr>\n",
       "    <tr>\n",
       "      <th>2</th>\n",
       "      <td>Brett Favre</td>\n",
       "      <td>32.0</td>\n",
       "      <td>GNB</td>\n",
       "      <td>QB</td>\n",
       "      <td>16.0</td>\n",
       "      <td>16.0</td>\n",
       "      <td>2000-12-04 00:00:00</td>\n",
       "      <td>314.0</td>\n",
       "      <td>510.0</td>\n",
       "      <td>61.6</td>\n",
       "      <td>...</td>\n",
       "      <td>22.0</td>\n",
       "      <td>151.0</td>\n",
       "      <td>4.14</td>\n",
       "      <td>7.09</td>\n",
       "      <td>7.02</td>\n",
       "      <td>1.0</td>\n",
       "      <td>2.0</td>\n",
       "      <td>PB,AP-2,AP MVP-3,AP OPoY-3</td>\n",
       "      <td>2001</td>\n",
       "      <td>NaN</td>\n",
       "    </tr>\n",
       "    <tr>\n",
       "      <th>3</th>\n",
       "      <td>Aaron Brooks</td>\n",
       "      <td>25.0</td>\n",
       "      <td>NOR</td>\n",
       "      <td>QB</td>\n",
       "      <td>16.0</td>\n",
       "      <td>16.0</td>\n",
       "      <td>2000-07-09 00:00:00</td>\n",
       "      <td>312.0</td>\n",
       "      <td>558.0</td>\n",
       "      <td>55.9</td>\n",
       "      <td>...</td>\n",
       "      <td>50.0</td>\n",
       "      <td>330.0</td>\n",
       "      <td>8.22</td>\n",
       "      <td>5.76</td>\n",
       "      <td>4.99</td>\n",
       "      <td>2.0</td>\n",
       "      <td>3.0</td>\n",
       "      <td>NaN</td>\n",
       "      <td>2001</td>\n",
       "      <td>NaN</td>\n",
       "    </tr>\n",
       "    <tr>\n",
       "      <th>4</th>\n",
       "      <td>Rich Gannon</td>\n",
       "      <td>36.0</td>\n",
       "      <td>OAK</td>\n",
       "      <td>QB</td>\n",
       "      <td>16.0</td>\n",
       "      <td>16.0</td>\n",
       "      <td>2000-10-06 00:00:00</td>\n",
       "      <td>361.0</td>\n",
       "      <td>549.0</td>\n",
       "      <td>65.8</td>\n",
       "      <td>...</td>\n",
       "      <td>27.0</td>\n",
       "      <td>155.0</td>\n",
       "      <td>4.69</td>\n",
       "      <td>6.38</td>\n",
       "      <td>6.61</td>\n",
       "      <td>1.0</td>\n",
       "      <td>2.0</td>\n",
       "      <td>PB</td>\n",
       "      <td>2001</td>\n",
       "      <td>NaN</td>\n",
       "    </tr>\n",
       "  </tbody>\n",
       "</table>\n",
       "<p>5 rows × 33 columns</p>\n",
       "</div>"
      ],
      "text/plain": [
       "           Player   Age Team Pos     G    GS                QBrec    Cmp  \\\n",
       "0     Kurt Warner  30.0  STL  QB  16.0  16.0               14-2-0  375.0   \n",
       "1  Peyton Manning  25.0  IND  QB  16.0  16.0  2000-06-10 00:00:00  343.0   \n",
       "2     Brett Favre  32.0  GNB  QB  16.0  16.0  2000-12-04 00:00:00  314.0   \n",
       "3    Aaron Brooks  25.0  NOR  QB  16.0  16.0  2000-07-09 00:00:00  312.0   \n",
       "4     Rich Gannon  36.0  OAK  QB  16.0  16.0  2000-10-06 00:00:00  361.0   \n",
       "\n",
       "     Att  Cmp%  ...    Sk  Yds.1   Sk%  NY/A  ANY/A  4QC  GWD  \\\n",
       "0  546.0  68.7  ...  38.0  233.0  6.51  7.87   7.41  1.0  2.0   \n",
       "1  547.0  62.7  ...  29.0  232.0  5.03  6.77   5.88  0.0  0.0   \n",
       "2  510.0  61.6  ...  22.0  151.0  4.14  7.09   7.02  1.0  2.0   \n",
       "3  558.0  55.9  ...  50.0  330.0  8.22  5.76   4.99  2.0  3.0   \n",
       "4  549.0  65.8  ...  27.0  155.0  4.69  6.38   6.61  1.0  2.0   \n",
       "\n",
       "                       Awards  Year  QBR  \n",
       "0  PB,AP-1,AP MVP-1,AP OPoY-2  2001  NaN  \n",
       "1                         NaN  2001  NaN  \n",
       "2  PB,AP-2,AP MVP-3,AP OPoY-3  2001  NaN  \n",
       "3                         NaN  2001  NaN  \n",
       "4                          PB  2001  NaN  \n",
       "\n",
       "[5 rows x 33 columns]"
      ]
     },
     "execution_count": 4,
     "metadata": {},
     "output_type": "execute_result"
    }
   ],
   "source": [
    "# Drop the 'Rk' column\n",
    "df = df.drop(['Rk'], axis=1)\n",
    "\n",
    "df.head()"
   ]
  },
  {
   "cell_type": "code",
   "execution_count": 5,
   "id": "0b65ce30-4703-4e80-b1e8-9d8a7b32b130",
   "metadata": {},
   "outputs": [
    {
     "name": "stdout",
     "output_type": "stream",
     "text": [
      "<class 'pandas.core.series.Series'>\n",
      "Int64Index: 963 entries, 0 to 2289\n",
      "Series name: Player\n",
      "Non-Null Count  Dtype \n",
      "--------------  ----- \n",
      "963 non-null    object\n",
      "dtypes: object(1)\n",
      "memory usage: 15.0+ KB\n"
     ]
    }
   ],
   "source": [
    "# Inspect the 'Player' column\n",
    "df['Player'].info()"
   ]
  },
  {
   "cell_type": "code",
   "execution_count": 6,
   "id": "f8d932bf-2260-4307-8668-4e1b3f252a9b",
   "metadata": {},
   "outputs": [
    {
     "name": "stdout",
     "output_type": "stream",
     "text": [
      "<class 'pandas.core.series.Series'>\n",
      "Int64Index: 963 entries, 0 to 2289\n",
      "Series name: Age\n",
      "Non-Null Count  Dtype  \n",
      "--------------  -----  \n",
      "963 non-null    float64\n",
      "dtypes: float64(1)\n",
      "memory usage: 15.0 KB\n"
     ]
    }
   ],
   "source": [
    "# Inspect the 'Age' column\n",
    "df['Age'].info()"
   ]
  },
  {
   "cell_type": "code",
   "execution_count": 7,
   "id": "55673708-a1bf-4d9b-9567-a848cd1b9b51",
   "metadata": {},
   "outputs": [
    {
     "data": {
      "text/plain": [
       "count    963.000000\n",
       "mean      28.613707\n",
       "std        4.591674\n",
       "min       21.000000\n",
       "25%       25.000000\n",
       "50%       28.000000\n",
       "75%       32.000000\n",
       "max       45.000000\n",
       "Name: Age, dtype: float64"
      ]
     },
     "execution_count": 7,
     "metadata": {},
     "output_type": "execute_result"
    }
   ],
   "source": [
    "df['Age'].describe()"
   ]
  },
  {
   "cell_type": "code",
   "execution_count": 8,
   "id": "a81c993c-6c9b-4c0d-b36d-f87a7b718ac7",
   "metadata": {},
   "outputs": [
    {
     "name": "stdout",
     "output_type": "stream",
     "text": [
      "<class 'pandas.core.series.Series'>\n",
      "Int64Index: 963 entries, 0 to 2289\n",
      "Series name: Age\n",
      "Non-Null Count  Dtype\n",
      "--------------  -----\n",
      "963 non-null    int64\n",
      "dtypes: int64(1)\n",
      "memory usage: 15.0 KB\n"
     ]
    }
   ],
   "source": [
    "# Convert the 'Age' column from float to int\n",
    "df['Age'] = df['Age'].astype(np.int64)\n",
    "\n",
    "df['Age'].info()"
   ]
  },
  {
   "cell_type": "code",
   "execution_count": 9,
   "id": "65eaa4da-f35f-45f8-a4ea-b7b3b0186f8b",
   "metadata": {},
   "outputs": [
    {
     "name": "stdout",
     "output_type": "stream",
     "text": [
      "<class 'pandas.core.series.Series'>\n",
      "Int64Index: 963 entries, 0 to 2289\n",
      "Series name: Team\n",
      "Non-Null Count  Dtype \n",
      "--------------  ----- \n",
      "963 non-null    object\n",
      "dtypes: object(1)\n",
      "memory usage: 15.0+ KB\n"
     ]
    }
   ],
   "source": [
    "# Inspect the 'Team' column\n",
    "df['Team'].info()"
   ]
  },
  {
   "cell_type": "code",
   "execution_count": 10,
   "id": "a364c397-9605-486c-86d6-2e8947a683f7",
   "metadata": {},
   "outputs": [
    {
     "name": "stdout",
     "output_type": "stream",
     "text": [
      "<class 'pandas.core.series.Series'>\n",
      "Int64Index: 963 entries, 0 to 2289\n",
      "Series name: Pos\n",
      "Non-Null Count  Dtype \n",
      "--------------  ----- \n",
      "963 non-null    object\n",
      "dtypes: object(1)\n",
      "memory usage: 15.0+ KB\n"
     ]
    }
   ],
   "source": [
    "# Inspect the 'Pos' column\n",
    "df['Pos'].info()"
   ]
  },
  {
   "cell_type": "code",
   "execution_count": 11,
   "id": "88f8416a-3b0e-4683-a00e-ea62aa004142",
   "metadata": {},
   "outputs": [
    {
     "name": "stdout",
     "output_type": "stream",
     "text": [
      "<class 'pandas.core.series.Series'>\n",
      "Int64Index: 963 entries, 0 to 2289\n",
      "Series name: G\n",
      "Non-Null Count  Dtype  \n",
      "--------------  -----  \n",
      "963 non-null    float64\n",
      "dtypes: float64(1)\n",
      "memory usage: 15.0 KB\n"
     ]
    }
   ],
   "source": [
    "# Inspect the 'G' column\n",
    "df['G'].info()"
   ]
  },
  {
   "cell_type": "code",
   "execution_count": 12,
   "id": "65daba9b-6282-43ec-a3ec-f17931e4523b",
   "metadata": {},
   "outputs": [
    {
     "data": {
      "text/plain": [
       "count    963.000000\n",
       "mean      12.069574\n",
       "std        4.099128\n",
       "min        3.000000\n",
       "25%        8.000000\n",
       "50%       13.000000\n",
       "75%       16.000000\n",
       "max       17.000000\n",
       "Name: G, dtype: float64"
      ]
     },
     "execution_count": 12,
     "metadata": {},
     "output_type": "execute_result"
    }
   ],
   "source": [
    "df['G'].describe()"
   ]
  },
  {
   "cell_type": "code",
   "execution_count": 13,
   "id": "68470087-caf6-4a65-8714-9b553ce710e2",
   "metadata": {},
   "outputs": [
    {
     "name": "stdout",
     "output_type": "stream",
     "text": [
      "<class 'pandas.core.series.Series'>\n",
      "Int64Index: 963 entries, 0 to 2289\n",
      "Series name: G\n",
      "Non-Null Count  Dtype\n",
      "--------------  -----\n",
      "963 non-null    int64\n",
      "dtypes: int64(1)\n",
      "memory usage: 15.0 KB\n"
     ]
    }
   ],
   "source": [
    "# Convert the 'G' column from float to int\n",
    "df['G'] = df['G'].astype(np.int64)\n",
    "\n",
    "df['G'].info()"
   ]
  },
  {
   "cell_type": "code",
   "execution_count": 14,
   "id": "901e0376-2028-42fa-9a6c-ee880e0ad98d",
   "metadata": {},
   "outputs": [
    {
     "name": "stdout",
     "output_type": "stream",
     "text": [
      "<class 'pandas.core.series.Series'>\n",
      "Int64Index: 963 entries, 0 to 2289\n",
      "Series name: GS\n",
      "Non-Null Count  Dtype  \n",
      "--------------  -----  \n",
      "963 non-null    float64\n",
      "dtypes: float64(1)\n",
      "memory usage: 15.0 KB\n"
     ]
    }
   ],
   "source": [
    "# Inspect the 'GS' column\n",
    "df['GS'].info()"
   ]
  },
  {
   "cell_type": "code",
   "execution_count": 15,
   "id": "0a6bf6d6-2476-42ed-97f3-47a445384870",
   "metadata": {},
   "outputs": [
    {
     "data": {
      "text/plain": [
       "count    963.000000\n",
       "mean      11.327103\n",
       "std        4.702806\n",
       "min        2.000000\n",
       "25%        7.000000\n",
       "50%       13.000000\n",
       "75%       16.000000\n",
       "max       17.000000\n",
       "Name: GS, dtype: float64"
      ]
     },
     "execution_count": 15,
     "metadata": {},
     "output_type": "execute_result"
    }
   ],
   "source": [
    "df['GS'].describe()"
   ]
  },
  {
   "cell_type": "code",
   "execution_count": 16,
   "id": "fbc6893d-3f5a-4176-a0b0-ef69aa02830d",
   "metadata": {},
   "outputs": [
    {
     "name": "stdout",
     "output_type": "stream",
     "text": [
      "<class 'pandas.core.series.Series'>\n",
      "Int64Index: 963 entries, 0 to 2289\n",
      "Series name: GS\n",
      "Non-Null Count  Dtype\n",
      "--------------  -----\n",
      "963 non-null    int64\n",
      "dtypes: int64(1)\n",
      "memory usage: 15.0 KB\n"
     ]
    }
   ],
   "source": [
    "# Convert the 'GS' column from float to int\n",
    "df['GS'] = df['GS'].astype(np.int64)\n",
    "\n",
    "df['GS'].info()"
   ]
  },
  {
   "cell_type": "code",
   "execution_count": 17,
   "id": "ccb9646c-35e0-4976-be86-5b67e4f90353",
   "metadata": {},
   "outputs": [
    {
     "name": "stdout",
     "output_type": "stream",
     "text": [
      "<class 'pandas.core.series.Series'>\n",
      "Int64Index: 963 entries, 0 to 2289\n",
      "Series name: QBrec\n",
      "Non-Null Count  Dtype \n",
      "--------------  ----- \n",
      "963 non-null    object\n",
      "dtypes: object(1)\n",
      "memory usage: 15.0+ KB\n"
     ]
    }
   ],
   "source": [
    "# Inspect the 'QBrec' column\n",
    "df['QBrec'].info()"
   ]
  },
  {
   "cell_type": "code",
   "execution_count": 18,
   "id": "876bf759-f664-4703-be37-26b7858e00b4",
   "metadata": {},
   "outputs": [],
   "source": [
    "# Fix the issue where some of the records were converted to dates\n",
    "def correct_qbrec(val):\n",
    "    # Check if the value is a timestamp or datetime object\n",
    "    if isinstance(val, datetime):\n",
    "        # Extract the month and day from the date\n",
    "        return f'{val.month}-{val.day}'\n",
    "    return val # Return the original value if it wasn't a date"
   ]
  },
  {
   "cell_type": "code",
   "execution_count": 19,
   "id": "7917966c-af47-4966-83f2-9e05a4ae8c33",
   "metadata": {},
   "outputs": [
    {
     "data": {
      "text/html": [
       "<div>\n",
       "<style scoped>\n",
       "    .dataframe tbody tr th:only-of-type {\n",
       "        vertical-align: middle;\n",
       "    }\n",
       "\n",
       "    .dataframe tbody tr th {\n",
       "        vertical-align: top;\n",
       "    }\n",
       "\n",
       "    .dataframe thead th {\n",
       "        text-align: right;\n",
       "    }\n",
       "</style>\n",
       "<table border=\"1\" class=\"dataframe\">\n",
       "  <thead>\n",
       "    <tr style=\"text-align: right;\">\n",
       "      <th></th>\n",
       "      <th>Player</th>\n",
       "      <th>Age</th>\n",
       "      <th>Team</th>\n",
       "      <th>Pos</th>\n",
       "      <th>G</th>\n",
       "      <th>GS</th>\n",
       "      <th>QBrec</th>\n",
       "      <th>Cmp</th>\n",
       "      <th>Att</th>\n",
       "      <th>Cmp%</th>\n",
       "      <th>...</th>\n",
       "      <th>Sk</th>\n",
       "      <th>Yds.1</th>\n",
       "      <th>Sk%</th>\n",
       "      <th>NY/A</th>\n",
       "      <th>ANY/A</th>\n",
       "      <th>4QC</th>\n",
       "      <th>GWD</th>\n",
       "      <th>Awards</th>\n",
       "      <th>Year</th>\n",
       "      <th>QBR</th>\n",
       "    </tr>\n",
       "  </thead>\n",
       "  <tbody>\n",
       "    <tr>\n",
       "      <th>0</th>\n",
       "      <td>Kurt Warner</td>\n",
       "      <td>30</td>\n",
       "      <td>STL</td>\n",
       "      <td>QB</td>\n",
       "      <td>16</td>\n",
       "      <td>16</td>\n",
       "      <td>14-2-0</td>\n",
       "      <td>375.0</td>\n",
       "      <td>546.0</td>\n",
       "      <td>68.7</td>\n",
       "      <td>...</td>\n",
       "      <td>38.0</td>\n",
       "      <td>233.0</td>\n",
       "      <td>6.51</td>\n",
       "      <td>7.87</td>\n",
       "      <td>7.41</td>\n",
       "      <td>1.0</td>\n",
       "      <td>2.0</td>\n",
       "      <td>PB,AP-1,AP MVP-1,AP OPoY-2</td>\n",
       "      <td>2001</td>\n",
       "      <td>NaN</td>\n",
       "    </tr>\n",
       "    <tr>\n",
       "      <th>1</th>\n",
       "      <td>Peyton Manning</td>\n",
       "      <td>25</td>\n",
       "      <td>IND</td>\n",
       "      <td>QB</td>\n",
       "      <td>16</td>\n",
       "      <td>16</td>\n",
       "      <td>6-10</td>\n",
       "      <td>343.0</td>\n",
       "      <td>547.0</td>\n",
       "      <td>62.7</td>\n",
       "      <td>...</td>\n",
       "      <td>29.0</td>\n",
       "      <td>232.0</td>\n",
       "      <td>5.03</td>\n",
       "      <td>6.77</td>\n",
       "      <td>5.88</td>\n",
       "      <td>0.0</td>\n",
       "      <td>0.0</td>\n",
       "      <td>NaN</td>\n",
       "      <td>2001</td>\n",
       "      <td>NaN</td>\n",
       "    </tr>\n",
       "    <tr>\n",
       "      <th>2</th>\n",
       "      <td>Brett Favre</td>\n",
       "      <td>32</td>\n",
       "      <td>GNB</td>\n",
       "      <td>QB</td>\n",
       "      <td>16</td>\n",
       "      <td>16</td>\n",
       "      <td>12-4</td>\n",
       "      <td>314.0</td>\n",
       "      <td>510.0</td>\n",
       "      <td>61.6</td>\n",
       "      <td>...</td>\n",
       "      <td>22.0</td>\n",
       "      <td>151.0</td>\n",
       "      <td>4.14</td>\n",
       "      <td>7.09</td>\n",
       "      <td>7.02</td>\n",
       "      <td>1.0</td>\n",
       "      <td>2.0</td>\n",
       "      <td>PB,AP-2,AP MVP-3,AP OPoY-3</td>\n",
       "      <td>2001</td>\n",
       "      <td>NaN</td>\n",
       "    </tr>\n",
       "    <tr>\n",
       "      <th>3</th>\n",
       "      <td>Aaron Brooks</td>\n",
       "      <td>25</td>\n",
       "      <td>NOR</td>\n",
       "      <td>QB</td>\n",
       "      <td>16</td>\n",
       "      <td>16</td>\n",
       "      <td>7-9</td>\n",
       "      <td>312.0</td>\n",
       "      <td>558.0</td>\n",
       "      <td>55.9</td>\n",
       "      <td>...</td>\n",
       "      <td>50.0</td>\n",
       "      <td>330.0</td>\n",
       "      <td>8.22</td>\n",
       "      <td>5.76</td>\n",
       "      <td>4.99</td>\n",
       "      <td>2.0</td>\n",
       "      <td>3.0</td>\n",
       "      <td>NaN</td>\n",
       "      <td>2001</td>\n",
       "      <td>NaN</td>\n",
       "    </tr>\n",
       "    <tr>\n",
       "      <th>4</th>\n",
       "      <td>Rich Gannon</td>\n",
       "      <td>36</td>\n",
       "      <td>OAK</td>\n",
       "      <td>QB</td>\n",
       "      <td>16</td>\n",
       "      <td>16</td>\n",
       "      <td>10-6</td>\n",
       "      <td>361.0</td>\n",
       "      <td>549.0</td>\n",
       "      <td>65.8</td>\n",
       "      <td>...</td>\n",
       "      <td>27.0</td>\n",
       "      <td>155.0</td>\n",
       "      <td>4.69</td>\n",
       "      <td>6.38</td>\n",
       "      <td>6.61</td>\n",
       "      <td>1.0</td>\n",
       "      <td>2.0</td>\n",
       "      <td>PB</td>\n",
       "      <td>2001</td>\n",
       "      <td>NaN</td>\n",
       "    </tr>\n",
       "  </tbody>\n",
       "</table>\n",
       "<p>5 rows × 33 columns</p>\n",
       "</div>"
      ],
      "text/plain": [
       "           Player  Age Team Pos   G  GS   QBrec    Cmp    Att  Cmp%  ...  \\\n",
       "0     Kurt Warner   30  STL  QB  16  16  14-2-0  375.0  546.0  68.7  ...   \n",
       "1  Peyton Manning   25  IND  QB  16  16    6-10  343.0  547.0  62.7  ...   \n",
       "2     Brett Favre   32  GNB  QB  16  16    12-4  314.0  510.0  61.6  ...   \n",
       "3    Aaron Brooks   25  NOR  QB  16  16     7-9  312.0  558.0  55.9  ...   \n",
       "4     Rich Gannon   36  OAK  QB  16  16    10-6  361.0  549.0  65.8  ...   \n",
       "\n",
       "     Sk  Yds.1   Sk%  NY/A  ANY/A  4QC  GWD                      Awards  Year  \\\n",
       "0  38.0  233.0  6.51  7.87   7.41  1.0  2.0  PB,AP-1,AP MVP-1,AP OPoY-2  2001   \n",
       "1  29.0  232.0  5.03  6.77   5.88  0.0  0.0                         NaN  2001   \n",
       "2  22.0  151.0  4.14  7.09   7.02  1.0  2.0  PB,AP-2,AP MVP-3,AP OPoY-3  2001   \n",
       "3  50.0  330.0  8.22  5.76   4.99  2.0  3.0                         NaN  2001   \n",
       "4  27.0  155.0  4.69  6.38   6.61  1.0  2.0                          PB  2001   \n",
       "\n",
       "   QBR  \n",
       "0  NaN  \n",
       "1  NaN  \n",
       "2  NaN  \n",
       "3  NaN  \n",
       "4  NaN  \n",
       "\n",
       "[5 rows x 33 columns]"
      ]
     },
     "execution_count": 19,
     "metadata": {},
     "output_type": "execute_result"
    }
   ],
   "source": [
    "# Apply the correct_qbrec function to fix the values\n",
    "df['QBrec'] = df['QBrec'].apply(correct_qbrec)\n",
    "\n",
    "df.head()"
   ]
  },
  {
   "cell_type": "code",
   "execution_count": 20,
   "id": "92c2d358-50bd-402c-80ca-ace408913c51",
   "metadata": {},
   "outputs": [],
   "source": [
    "# Function to split the 'QBrec' column into Wins, Losses, and Ties\n",
    "def split_QBrec(record):\n",
    "    parts = record.split('-')\n",
    "    # Handle cases where there are no ties (only 2 parts)\n",
    "    wins = int(parts[0])\n",
    "    losses = int(parts[1])\n",
    "    ties = int(parts[2]) if len(parts) == 3 else 0\n",
    "    return pd.Series([wins, losses, ties])"
   ]
  },
  {
   "cell_type": "code",
   "execution_count": 21,
   "id": "12d8af07-657c-4d1e-872d-12805a1a7845",
   "metadata": {},
   "outputs": [
    {
     "name": "stdout",
     "output_type": "stream",
     "text": [
      "<class 'pandas.core.frame.DataFrame'>\n",
      "Int64Index: 963 entries, 0 to 2289\n",
      "Data columns (total 36 columns):\n",
      " #   Column  Non-Null Count  Dtype  \n",
      "---  ------  --------------  -----  \n",
      " 0   Player  963 non-null    object \n",
      " 1   Age     963 non-null    int64  \n",
      " 2   Team    963 non-null    object \n",
      " 3   Pos     963 non-null    object \n",
      " 4   G       963 non-null    int64  \n",
      " 5   GS      963 non-null    int64  \n",
      " 6   QBrec   963 non-null    object \n",
      " 7   Cmp     963 non-null    float64\n",
      " 8   Att     963 non-null    float64\n",
      " 9   Cmp%    963 non-null    float64\n",
      " 10  Yds     963 non-null    float64\n",
      " 11  TD      963 non-null    float64\n",
      " 12  TD%     963 non-null    float64\n",
      " 13  Int     963 non-null    float64\n",
      " 14  Int%    963 non-null    float64\n",
      " 15  1D      963 non-null    float64\n",
      " 16  Succ%   963 non-null    float64\n",
      " 17  Lng     963 non-null    float64\n",
      " 18  Y/A     963 non-null    float64\n",
      " 19  AY/A    963 non-null    float64\n",
      " 20  Y/C     963 non-null    float64\n",
      " 21  Y/G     963 non-null    float64\n",
      " 22  Rate    963 non-null    float64\n",
      " 23  Sk      963 non-null    float64\n",
      " 24  Yds.1   963 non-null    float64\n",
      " 25  Sk%     963 non-null    float64\n",
      " 26  NY/A    963 non-null    float64\n",
      " 27  ANY/A   963 non-null    float64\n",
      " 28  4QC     963 non-null    float64\n",
      " 29  GWD     963 non-null    float64\n",
      " 30  Awards  233 non-null    object \n",
      " 31  Year    963 non-null    int64  \n",
      " 32  QBR     732 non-null    float64\n",
      " 33  Wins    963 non-null    int64  \n",
      " 34  Losses  963 non-null    int64  \n",
      " 35  Ties    963 non-null    int64  \n",
      "dtypes: float64(24), int64(7), object(5)\n",
      "memory usage: 278.4+ KB\n"
     ]
    }
   ],
   "source": [
    "# Apply the split_QBrec function to create new columns\n",
    "df[['Wins', 'Losses', 'Ties']] = df['QBrec'].apply(split_QBrec)\n",
    "\n",
    "df.info()"
   ]
  },
  {
   "cell_type": "code",
   "execution_count": 22,
   "id": "79f6e457-0221-44a3-81c2-b8da26267c40",
   "metadata": {},
   "outputs": [
    {
     "name": "stdout",
     "output_type": "stream",
     "text": [
      "<class 'pandas.core.series.Series'>\n",
      "Int64Index: 963 entries, 0 to 2289\n",
      "Series name: Wins\n",
      "Non-Null Count  Dtype\n",
      "--------------  -----\n",
      "963 non-null    int64\n",
      "dtypes: int64(1)\n",
      "memory usage: 15.0 KB\n"
     ]
    }
   ],
   "source": [
    "# Inspect the new columns\n",
    "df['Wins'].info()"
   ]
  },
  {
   "cell_type": "code",
   "execution_count": 23,
   "id": "77195a9b-9bab-49ba-976a-9212fd55491e",
   "metadata": {},
   "outputs": [
    {
     "data": {
      "text/plain": [
       "count    963.000000\n",
       "mean       5.719626\n",
       "std        3.874634\n",
       "min        0.000000\n",
       "25%        2.000000\n",
       "50%        5.000000\n",
       "75%        9.000000\n",
       "max       16.000000\n",
       "Name: Wins, dtype: float64"
      ]
     },
     "execution_count": 23,
     "metadata": {},
     "output_type": "execute_result"
    }
   ],
   "source": [
    "df['Wins'].describe()"
   ]
  },
  {
   "cell_type": "code",
   "execution_count": 24,
   "id": "e9410313-0502-4496-a611-855baf86221a",
   "metadata": {},
   "outputs": [
    {
     "name": "stdout",
     "output_type": "stream",
     "text": [
      "<class 'pandas.core.series.Series'>\n",
      "Int64Index: 963 entries, 0 to 2289\n",
      "Series name: Losses\n",
      "Non-Null Count  Dtype\n",
      "--------------  -----\n",
      "963 non-null    int64\n",
      "dtypes: int64(1)\n",
      "memory usage: 15.0 KB\n"
     ]
    }
   ],
   "source": [
    "df['Losses'].info()"
   ]
  },
  {
   "cell_type": "code",
   "execution_count": 25,
   "id": "7d5df90d-cc9a-45f1-a44b-1196047293fe",
   "metadata": {},
   "outputs": [
    {
     "data": {
      "text/plain": [
       "count    963.000000\n",
       "mean       5.570093\n",
       "std        2.730063\n",
       "min        0.000000\n",
       "25%        3.000000\n",
       "50%        5.000000\n",
       "75%        7.000000\n",
       "max       15.000000\n",
       "Name: Losses, dtype: float64"
      ]
     },
     "execution_count": 25,
     "metadata": {},
     "output_type": "execute_result"
    }
   ],
   "source": [
    "df['Losses'].describe()"
   ]
  },
  {
   "cell_type": "code",
   "execution_count": 26,
   "id": "41c3e333-3cc7-4fa4-b2be-3b224883af44",
   "metadata": {},
   "outputs": [
    {
     "name": "stdout",
     "output_type": "stream",
     "text": [
      "<class 'pandas.core.series.Series'>\n",
      "Int64Index: 963 entries, 0 to 2289\n",
      "Series name: Ties\n",
      "Non-Null Count  Dtype\n",
      "--------------  -----\n",
      "963 non-null    int64\n",
      "dtypes: int64(1)\n",
      "memory usage: 15.0 KB\n"
     ]
    }
   ],
   "source": [
    "df['Ties'].info()"
   ]
  },
  {
   "cell_type": "code",
   "execution_count": 27,
   "id": "9398c406-4fd7-458e-a7d3-b2db0ca69d0a",
   "metadata": {},
   "outputs": [
    {
     "data": {
      "text/plain": [
       "count    963.0\n",
       "mean       0.0\n",
       "std        0.0\n",
       "min        0.0\n",
       "25%        0.0\n",
       "50%        0.0\n",
       "75%        0.0\n",
       "max        0.0\n",
       "Name: Ties, dtype: float64"
      ]
     },
     "execution_count": 27,
     "metadata": {},
     "output_type": "execute_result"
    }
   ],
   "source": [
    "df['Ties'].describe()"
   ]
  },
  {
   "cell_type": "code",
   "execution_count": 28,
   "id": "6faeffef-fc92-4f4f-b759-f66b3b352795",
   "metadata": {},
   "outputs": [
    {
     "name": "stdout",
     "output_type": "stream",
     "text": [
      "<class 'pandas.core.series.Series'>\n",
      "Int64Index: 963 entries, 0 to 2289\n",
      "Series name: Cmp\n",
      "Non-Null Count  Dtype  \n",
      "--------------  -----  \n",
      "963 non-null    float64\n",
      "dtypes: float64(1)\n",
      "memory usage: 15.0 KB\n"
     ]
    }
   ],
   "source": [
    "# Inspect the 'Cmp' column\n",
    "df['Cmp'].info()"
   ]
  },
  {
   "cell_type": "code",
   "execution_count": 29,
   "id": "43f95980-26df-4fee-90da-0b610a657bc3",
   "metadata": {},
   "outputs": [
    {
     "data": {
      "text/plain": [
       "count    963.000000\n",
       "mean     234.674974\n",
       "std      109.255072\n",
       "min       44.000000\n",
       "25%      132.000000\n",
       "50%      245.000000\n",
       "75%      323.000000\n",
       "max      490.000000\n",
       "Name: Cmp, dtype: float64"
      ]
     },
     "execution_count": 29,
     "metadata": {},
     "output_type": "execute_result"
    }
   ],
   "source": [
    "df['Cmp'].describe()"
   ]
  },
  {
   "cell_type": "code",
   "execution_count": 30,
   "id": "372ce0cf-4cab-4729-8d93-63063658e84a",
   "metadata": {},
   "outputs": [
    {
     "name": "stdout",
     "output_type": "stream",
     "text": [
      "<class 'pandas.core.series.Series'>\n",
      "Int64Index: 963 entries, 0 to 2289\n",
      "Series name: Cmp\n",
      "Non-Null Count  Dtype\n",
      "--------------  -----\n",
      "963 non-null    int64\n",
      "dtypes: int64(1)\n",
      "memory usage: 15.0 KB\n"
     ]
    }
   ],
   "source": [
    "# Convert the 'Cmp' column from float to int\n",
    "df['Cmp'] = df['Cmp'].astype(np.int64)\n",
    "\n",
    "df['Cmp'].info()"
   ]
  },
  {
   "cell_type": "code",
   "execution_count": 31,
   "id": "0b062e17-a062-46e9-a8c2-7f86bc94917f",
   "metadata": {},
   "outputs": [
    {
     "name": "stdout",
     "output_type": "stream",
     "text": [
      "<class 'pandas.core.series.Series'>\n",
      "Int64Index: 963 entries, 0 to 2289\n",
      "Series name: Att\n",
      "Non-Null Count  Dtype  \n",
      "--------------  -----  \n",
      "963 non-null    float64\n",
      "dtypes: float64(1)\n",
      "memory usage: 15.0 KB\n"
     ]
    }
   ],
   "source": [
    "# Inspect the 'Att' column\n",
    "df['Att'].info()"
   ]
  },
  {
   "cell_type": "code",
   "execution_count": 32,
   "id": "0a36df53-d395-42e0-a186-b63ccbb1cb1f",
   "metadata": {},
   "outputs": [
    {
     "data": {
      "text/plain": [
       "count    963.000000\n",
       "mean     377.761163\n",
       "std      164.484848\n",
       "min      100.000000\n",
       "25%      223.500000\n",
       "50%      397.000000\n",
       "75%      520.000000\n",
       "max      733.000000\n",
       "Name: Att, dtype: float64"
      ]
     },
     "execution_count": 32,
     "metadata": {},
     "output_type": "execute_result"
    }
   ],
   "source": [
    "df['Att'].describe()"
   ]
  },
  {
   "cell_type": "code",
   "execution_count": 33,
   "id": "89b39b3d-b8ce-4f25-ba63-2c40b46993eb",
   "metadata": {},
   "outputs": [
    {
     "name": "stdout",
     "output_type": "stream",
     "text": [
      "<class 'pandas.core.series.Series'>\n",
      "Int64Index: 963 entries, 0 to 2289\n",
      "Series name: Att\n",
      "Non-Null Count  Dtype\n",
      "--------------  -----\n",
      "963 non-null    int64\n",
      "dtypes: int64(1)\n",
      "memory usage: 15.0 KB\n"
     ]
    }
   ],
   "source": [
    "# Convert the 'Att' column from float to int\n",
    "df['Att'] = df['Att'].astype(np.int64)\n",
    "\n",
    "df['Att'].info()"
   ]
  },
  {
   "cell_type": "code",
   "execution_count": 34,
   "id": "28db8a27-f857-4aff-94c0-3a591b9e6098",
   "metadata": {},
   "outputs": [
    {
     "name": "stdout",
     "output_type": "stream",
     "text": [
      "<class 'pandas.core.series.Series'>\n",
      "Int64Index: 963 entries, 0 to 2289\n",
      "Series name: Cmp%\n",
      "Non-Null Count  Dtype  \n",
      "--------------  -----  \n",
      "963 non-null    float64\n",
      "dtypes: float64(1)\n",
      "memory usage: 15.0 KB\n"
     ]
    }
   ],
   "source": [
    "# Inspect the 'Cmp%' column\n",
    "df['Cmp%'].info()"
   ]
  },
  {
   "cell_type": "code",
   "execution_count": 35,
   "id": "18604565-28c0-4f5c-9d0a-225fccee82bb",
   "metadata": {},
   "outputs": [
    {
     "data": {
      "text/plain": [
       "count    963.000000\n",
       "mean      61.278089\n",
       "std        4.979777\n",
       "min       38.600000\n",
       "25%       58.150000\n",
       "50%       61.500000\n",
       "75%       64.900000\n",
       "max       74.400000\n",
       "Name: Cmp%, dtype: float64"
      ]
     },
     "execution_count": 35,
     "metadata": {},
     "output_type": "execute_result"
    }
   ],
   "source": [
    "df['Cmp%'].describe()"
   ]
  },
  {
   "cell_type": "code",
   "execution_count": 36,
   "id": "59c0feaa-f4e4-4623-8ade-0366bc9ee3ae",
   "metadata": {},
   "outputs": [
    {
     "name": "stdout",
     "output_type": "stream",
     "text": [
      "<class 'pandas.core.series.Series'>\n",
      "Int64Index: 963 entries, 0 to 2289\n",
      "Series name: Yds\n",
      "Non-Null Count  Dtype  \n",
      "--------------  -----  \n",
      "963 non-null    float64\n",
      "dtypes: float64(1)\n",
      "memory usage: 15.0 KB\n"
     ]
    }
   ],
   "source": [
    "# Inspect the 'Yds' column\n",
    "df['Yds'].info()"
   ]
  },
  {
   "cell_type": "code",
   "execution_count": 37,
   "id": "e4f33d02-b478-4c23-bbaf-c715ce7684ae",
   "metadata": {},
   "outputs": [
    {
     "data": {
      "text/plain": [
       "count     963.000000\n",
       "mean     2671.809969\n",
       "std      1274.405398\n",
       "min       391.000000\n",
       "25%      1522.000000\n",
       "50%      2753.000000\n",
       "75%      3763.000000\n",
       "max      5477.000000\n",
       "Name: Yds, dtype: float64"
      ]
     },
     "execution_count": 37,
     "metadata": {},
     "output_type": "execute_result"
    }
   ],
   "source": [
    "df['Yds'].describe()"
   ]
  },
  {
   "cell_type": "code",
   "execution_count": 38,
   "id": "a59a6612-18fd-4456-b765-773de487c4cc",
   "metadata": {},
   "outputs": [
    {
     "name": "stdout",
     "output_type": "stream",
     "text": [
      "<class 'pandas.core.series.Series'>\n",
      "Int64Index: 963 entries, 0 to 2289\n",
      "Series name: Yds\n",
      "Non-Null Count  Dtype\n",
      "--------------  -----\n",
      "963 non-null    int64\n",
      "dtypes: int64(1)\n",
      "memory usage: 15.0 KB\n"
     ]
    }
   ],
   "source": [
    "# Convert the 'Yds' column from float to int\n",
    "df['Yds'] = df['Yds'].astype(np.int64)\n",
    "\n",
    "df['Yds'].info()"
   ]
  },
  {
   "cell_type": "code",
   "execution_count": 39,
   "id": "6f168456-ffe6-4fdb-b172-6cc49e9e09a3",
   "metadata": {},
   "outputs": [
    {
     "name": "stdout",
     "output_type": "stream",
     "text": [
      "<class 'pandas.core.series.Series'>\n",
      "Int64Index: 963 entries, 0 to 2289\n",
      "Series name: TD\n",
      "Non-Null Count  Dtype  \n",
      "--------------  -----  \n",
      "963 non-null    float64\n",
      "dtypes: float64(1)\n",
      "memory usage: 15.0 KB\n"
     ]
    }
   ],
   "source": [
    "# Inspect the 'TD' column\n",
    "df['TD'].info()"
   ]
  },
  {
   "cell_type": "code",
   "execution_count": 40,
   "id": "79e946ae-896d-41df-8d3e-dd3f1b043419",
   "metadata": {},
   "outputs": [
    {
     "data": {
      "text/plain": [
       "count    963.000000\n",
       "mean      16.330218\n",
       "std       10.140745\n",
       "min        0.000000\n",
       "25%        7.000000\n",
       "50%       15.000000\n",
       "75%       24.000000\n",
       "max       55.000000\n",
       "Name: TD, dtype: float64"
      ]
     },
     "execution_count": 40,
     "metadata": {},
     "output_type": "execute_result"
    }
   ],
   "source": [
    "df['TD'].describe()"
   ]
  },
  {
   "cell_type": "code",
   "execution_count": 41,
   "id": "6dcb4ae6-0654-4256-ade1-4b00184a99c0",
   "metadata": {},
   "outputs": [
    {
     "name": "stdout",
     "output_type": "stream",
     "text": [
      "<class 'pandas.core.series.Series'>\n",
      "Int64Index: 963 entries, 0 to 2289\n",
      "Series name: TD\n",
      "Non-Null Count  Dtype\n",
      "--------------  -----\n",
      "963 non-null    int64\n",
      "dtypes: int64(1)\n",
      "memory usage: 15.0 KB\n"
     ]
    }
   ],
   "source": [
    "# Convert the 'TD' column from float to int\n",
    "df['TD'] = df['TD'].astype(np.int64)\n",
    "\n",
    "df['TD'].info()"
   ]
  },
  {
   "cell_type": "code",
   "execution_count": 42,
   "id": "22dc35ef-e285-475f-a4da-db5afe8f7bf7",
   "metadata": {},
   "outputs": [
    {
     "name": "stdout",
     "output_type": "stream",
     "text": [
      "<class 'pandas.core.series.Series'>\n",
      "Int64Index: 963 entries, 0 to 2289\n",
      "Series name: TD%\n",
      "Non-Null Count  Dtype  \n",
      "--------------  -----  \n",
      "963 non-null    float64\n",
      "dtypes: float64(1)\n",
      "memory usage: 15.0 KB\n"
     ]
    }
   ],
   "source": [
    "# Inspect the 'TD%' column\n",
    "df['TD%'].info()"
   ]
  },
  {
   "cell_type": "code",
   "execution_count": 43,
   "id": "34cb7f51-7e65-4c37-ad48-822d614c5802",
   "metadata": {},
   "outputs": [
    {
     "data": {
      "text/plain": [
       "count    963.000000\n",
       "mean       4.077882\n",
       "std        1.445036\n",
       "min        0.000000\n",
       "25%        3.100000\n",
       "50%        4.000000\n",
       "75%        5.000000\n",
       "max        9.900000\n",
       "Name: TD%, dtype: float64"
      ]
     },
     "execution_count": 43,
     "metadata": {},
     "output_type": "execute_result"
    }
   ],
   "source": [
    "df['TD%'].describe()"
   ]
  },
  {
   "cell_type": "code",
   "execution_count": 44,
   "id": "2d916c9d-db7f-4f37-b6d2-ed6d9d92839a",
   "metadata": {},
   "outputs": [
    {
     "name": "stdout",
     "output_type": "stream",
     "text": [
      "<class 'pandas.core.series.Series'>\n",
      "Int64Index: 963 entries, 0 to 2289\n",
      "Series name: Int\n",
      "Non-Null Count  Dtype  \n",
      "--------------  -----  \n",
      "963 non-null    float64\n",
      "dtypes: float64(1)\n",
      "memory usage: 15.0 KB\n"
     ]
    }
   ],
   "source": [
    "# Inspect the 'Int' column\n",
    "df['Int'].info()"
   ]
  },
  {
   "cell_type": "code",
   "execution_count": 45,
   "id": "5ca844bb-4da1-454b-ad51-f1f782f08d0c",
   "metadata": {},
   "outputs": [
    {
     "data": {
      "text/plain": [
       "count    963.000000\n",
       "mean       9.949117\n",
       "std        4.939394\n",
       "min        0.000000\n",
       "25%        6.000000\n",
       "50%       10.000000\n",
       "75%       13.000000\n",
       "max       30.000000\n",
       "Name: Int, dtype: float64"
      ]
     },
     "execution_count": 45,
     "metadata": {},
     "output_type": "execute_result"
    }
   ],
   "source": [
    "df['Int'].describe()"
   ]
  },
  {
   "cell_type": "code",
   "execution_count": 46,
   "id": "47e0ea28-3762-4fa8-85d9-3b9a8cac0713",
   "metadata": {},
   "outputs": [
    {
     "name": "stdout",
     "output_type": "stream",
     "text": [
      "<class 'pandas.core.series.Series'>\n",
      "Int64Index: 963 entries, 0 to 2289\n",
      "Series name: Int\n",
      "Non-Null Count  Dtype\n",
      "--------------  -----\n",
      "963 non-null    int64\n",
      "dtypes: int64(1)\n",
      "memory usage: 15.0 KB\n"
     ]
    }
   ],
   "source": [
    "# Convert the 'Int' column from float to int\n",
    "df['Int'] = df['Int'].astype(np.int64)\n",
    "\n",
    "df['Int'].info()"
   ]
  },
  {
   "cell_type": "code",
   "execution_count": 47,
   "id": "782fcbdd-1cf2-4924-bb41-55068c6ac5d6",
   "metadata": {},
   "outputs": [
    {
     "name": "stdout",
     "output_type": "stream",
     "text": [
      "<class 'pandas.core.series.Series'>\n",
      "Int64Index: 963 entries, 0 to 2289\n",
      "Series name: Int%\n",
      "Non-Null Count  Dtype  \n",
      "--------------  -----  \n",
      "963 non-null    float64\n",
      "dtypes: float64(1)\n",
      "memory usage: 15.0 KB\n"
     ]
    }
   ],
   "source": [
    "# Inspect the 'Int%' column\n",
    "df['Int%'].info()"
   ]
  },
  {
   "cell_type": "code",
   "execution_count": 48,
   "id": "3b7d0590-dde8-4861-b5e6-25b82d1c0753",
   "metadata": {},
   "outputs": [
    {
     "data": {
      "text/plain": [
       "count    963.000000\n",
       "mean       2.798962\n",
       "std        1.153805\n",
       "min        0.000000\n",
       "25%        2.000000\n",
       "50%        2.700000\n",
       "75%        3.500000\n",
       "max        8.800000\n",
       "Name: Int%, dtype: float64"
      ]
     },
     "execution_count": 48,
     "metadata": {},
     "output_type": "execute_result"
    }
   ],
   "source": [
    "df['Int%'].describe()"
   ]
  },
  {
   "cell_type": "code",
   "execution_count": 49,
   "id": "0fe712fa-32e4-4919-b87d-5eab4a750ffb",
   "metadata": {},
   "outputs": [
    {
     "name": "stdout",
     "output_type": "stream",
     "text": [
      "<class 'pandas.core.series.Series'>\n",
      "Int64Index: 963 entries, 0 to 2289\n",
      "Series name: 1D\n",
      "Non-Null Count  Dtype  \n",
      "--------------  -----  \n",
      "963 non-null    float64\n",
      "dtypes: float64(1)\n",
      "memory usage: 15.0 KB\n"
     ]
    }
   ],
   "source": [
    "# Inspect the '1D' column\n",
    "df['1D'].info()"
   ]
  },
  {
   "cell_type": "code",
   "execution_count": 50,
   "id": "d01bf0a3-74b6-49e9-a06a-c762c8971959",
   "metadata": {},
   "outputs": [
    {
     "name": "stdout",
     "output_type": "stream",
     "text": [
      "<class 'pandas.core.series.Series'>\n",
      "Int64Index: 963 entries, 0 to 2289\n",
      "Series name: 1D\n",
      "Non-Null Count  Dtype\n",
      "--------------  -----\n",
      "963 non-null    int64\n",
      "dtypes: int64(1)\n",
      "memory usage: 15.0 KB\n"
     ]
    }
   ],
   "source": [
    "# Convert the '1D' column from float to int\n",
    "df['1D'] = df['1D'].astype(np.int64)\n",
    "\n",
    "df['1D'].info()"
   ]
  },
  {
   "cell_type": "code",
   "execution_count": 51,
   "id": "88177448-3ced-447c-a0d6-3bf4ab03c5ad",
   "metadata": {},
   "outputs": [
    {
     "name": "stdout",
     "output_type": "stream",
     "text": [
      "<class 'pandas.core.series.Series'>\n",
      "Int64Index: 963 entries, 0 to 2289\n",
      "Series name: Succ%\n",
      "Non-Null Count  Dtype  \n",
      "--------------  -----  \n",
      "963 non-null    float64\n",
      "dtypes: float64(1)\n",
      "memory usage: 15.0 KB\n"
     ]
    }
   ],
   "source": [
    "# Inspect the 'Succ%' column\n",
    "df['Succ%'].info()"
   ]
  },
  {
   "cell_type": "code",
   "execution_count": 52,
   "id": "2c1670df-6ddb-492a-91ba-598c2953d295",
   "metadata": {},
   "outputs": [
    {
     "data": {
      "text/plain": [
       "count    963.000000\n",
       "mean      44.177778\n",
       "std        5.144937\n",
       "min       25.300000\n",
       "25%       40.800000\n",
       "50%       44.200000\n",
       "75%       47.600000\n",
       "max       57.800000\n",
       "Name: Succ%, dtype: float64"
      ]
     },
     "execution_count": 52,
     "metadata": {},
     "output_type": "execute_result"
    }
   ],
   "source": [
    "df['Succ%'].describe()"
   ]
  },
  {
   "cell_type": "code",
   "execution_count": 53,
   "id": "0817ca7a-52c4-47cc-b0cf-b4b75d04e2d9",
   "metadata": {},
   "outputs": [
    {
     "name": "stdout",
     "output_type": "stream",
     "text": [
      "<class 'pandas.core.series.Series'>\n",
      "Int64Index: 963 entries, 0 to 2289\n",
      "Series name: Lng\n",
      "Non-Null Count  Dtype  \n",
      "--------------  -----  \n",
      "963 non-null    float64\n",
      "dtypes: float64(1)\n",
      "memory usage: 15.0 KB\n"
     ]
    }
   ],
   "source": [
    "# Inspect the 'Lng' column\n",
    "df['Lng'].info()"
   ]
  },
  {
   "cell_type": "code",
   "execution_count": 54,
   "id": "b0cd67c8-3873-4208-ae53-b97de0c57b64",
   "metadata": {},
   "outputs": [
    {
     "data": {
      "text/plain": [
       "count    963.000000\n",
       "mean      65.344756\n",
       "std       14.503836\n",
       "min       22.000000\n",
       "25%       55.000000\n",
       "50%       66.000000\n",
       "75%       76.000000\n",
       "max       99.000000\n",
       "Name: Lng, dtype: float64"
      ]
     },
     "execution_count": 54,
     "metadata": {},
     "output_type": "execute_result"
    }
   ],
   "source": [
    "df['Lng'].describe()"
   ]
  },
  {
   "cell_type": "code",
   "execution_count": 55,
   "id": "47193d24-154d-424d-b5d8-1b5d06cf348c",
   "metadata": {},
   "outputs": [
    {
     "name": "stdout",
     "output_type": "stream",
     "text": [
      "<class 'pandas.core.series.Series'>\n",
      "Int64Index: 963 entries, 0 to 2289\n",
      "Series name: Lng\n",
      "Non-Null Count  Dtype\n",
      "--------------  -----\n",
      "963 non-null    int64\n",
      "dtypes: int64(1)\n",
      "memory usage: 15.0 KB\n"
     ]
    }
   ],
   "source": [
    "# Convert the 'Lng' column from float to int\n",
    "df['Lng'] = df['Lng'].astype(np.int64)\n",
    "\n",
    "df['Lng'].info()"
   ]
  },
  {
   "cell_type": "code",
   "execution_count": 56,
   "id": "9e6b333c-f516-427b-89db-c039a36ecb4c",
   "metadata": {},
   "outputs": [
    {
     "name": "stdout",
     "output_type": "stream",
     "text": [
      "<class 'pandas.core.series.Series'>\n",
      "Int64Index: 963 entries, 0 to 2289\n",
      "Series name: Y/A\n",
      "Non-Null Count  Dtype  \n",
      "--------------  -----  \n",
      "963 non-null    float64\n",
      "dtypes: float64(1)\n",
      "memory usage: 15.0 KB\n"
     ]
    }
   ],
   "source": [
    "# Inspect the 'Y/A' column\n",
    "df['Y/A'].info()"
   ]
  },
  {
   "cell_type": "code",
   "execution_count": 57,
   "id": "563cfa4b-9971-4b78-9408-d365dcaccc7b",
   "metadata": {},
   "outputs": [
    {
     "data": {
      "text/plain": [
       "count    963.000000\n",
       "mean       6.942264\n",
       "std        0.843201\n",
       "min        3.400000\n",
       "25%        6.400000\n",
       "50%        6.900000\n",
       "75%        7.500000\n",
       "max        9.600000\n",
       "Name: Y/A, dtype: float64"
      ]
     },
     "execution_count": 57,
     "metadata": {},
     "output_type": "execute_result"
    }
   ],
   "source": [
    "df['Y/A'].describe()"
   ]
  },
  {
   "cell_type": "code",
   "execution_count": 58,
   "id": "9a274511-1c4d-4106-a5a7-503370021ba5",
   "metadata": {},
   "outputs": [
    {
     "name": "stdout",
     "output_type": "stream",
     "text": [
      "<class 'pandas.core.series.Series'>\n",
      "Int64Index: 963 entries, 0 to 2289\n",
      "Series name: AY/A\n",
      "Non-Null Count  Dtype  \n",
      "--------------  -----  \n",
      "963 non-null    float64\n",
      "dtypes: float64(1)\n",
      "memory usage: 15.0 KB\n"
     ]
    }
   ],
   "source": [
    "# Inspect the 'AY/A' column\n",
    "df['AY/A'].info()"
   ]
  },
  {
   "cell_type": "code",
   "execution_count": 59,
   "id": "4621cdcc-937e-40ab-9c79-3c0d09600874",
   "metadata": {},
   "outputs": [
    {
     "data": {
      "text/plain": [
       "count    963.000000\n",
       "mean       6.497736\n",
       "std        1.318565\n",
       "min        1.410000\n",
       "25%        5.610000\n",
       "50%        6.530000\n",
       "75%        7.355000\n",
       "max       10.540000\n",
       "Name: AY/A, dtype: float64"
      ]
     },
     "execution_count": 59,
     "metadata": {},
     "output_type": "execute_result"
    }
   ],
   "source": [
    "df['AY/A'].describe()"
   ]
  },
  {
   "cell_type": "code",
   "execution_count": 60,
   "id": "448c0af1-ea94-4328-b7ce-350f1ffa913e",
   "metadata": {},
   "outputs": [
    {
     "name": "stdout",
     "output_type": "stream",
     "text": [
      "<class 'pandas.core.series.Series'>\n",
      "Int64Index: 963 entries, 0 to 2289\n",
      "Series name: Y/C\n",
      "Non-Null Count  Dtype  \n",
      "--------------  -----  \n",
      "963 non-null    float64\n",
      "dtypes: float64(1)\n",
      "memory usage: 15.0 KB\n"
     ]
    }
   ],
   "source": [
    "# Inspect the 'Y/C' column\n",
    "df['Y/C'].info()"
   ]
  },
  {
   "cell_type": "code",
   "execution_count": 61,
   "id": "98dd90e0-a82d-4738-8d71-a85ff2fa5613",
   "metadata": {},
   "outputs": [
    {
     "data": {
      "text/plain": [
       "count    963.000000\n",
       "mean      11.334579\n",
       "std        1.093859\n",
       "min        7.300000\n",
       "25%       10.700000\n",
       "50%       11.300000\n",
       "75%       12.000000\n",
       "max       16.100000\n",
       "Name: Y/C, dtype: float64"
      ]
     },
     "execution_count": 61,
     "metadata": {},
     "output_type": "execute_result"
    }
   ],
   "source": [
    "df['Y/C'].describe()"
   ]
  },
  {
   "cell_type": "code",
   "execution_count": 62,
   "id": "ccd2a9fc-0cbd-4761-8dca-ffdb7d4fea6e",
   "metadata": {},
   "outputs": [
    {
     "name": "stdout",
     "output_type": "stream",
     "text": [
      "<class 'pandas.core.series.Series'>\n",
      "Int64Index: 963 entries, 0 to 2289\n",
      "Series name: Y/G\n",
      "Non-Null Count  Dtype  \n",
      "--------------  -----  \n",
      "963 non-null    float64\n",
      "dtypes: float64(1)\n",
      "memory usage: 15.0 KB\n"
     ]
    }
   ],
   "source": [
    "# Inspect the 'Y/G' column\n",
    "df['Y/G'].info()"
   ]
  },
  {
   "cell_type": "code",
   "execution_count": 63,
   "id": "8d0069b3-005e-4f5d-8546-3f70d728540a",
   "metadata": {},
   "outputs": [
    {
     "data": {
      "text/plain": [
       "count    963.000000\n",
       "mean     213.195223\n",
       "std       51.769699\n",
       "min       45.100000\n",
       "25%      181.700000\n",
       "50%      214.500000\n",
       "75%      250.750000\n",
       "max      371.200000\n",
       "Name: Y/G, dtype: float64"
      ]
     },
     "execution_count": 63,
     "metadata": {},
     "output_type": "execute_result"
    }
   ],
   "source": [
    "df['Y/G'].describe()"
   ]
  },
  {
   "cell_type": "code",
   "execution_count": 64,
   "id": "1fa632f2-1b2a-4e7b-a1b0-8ed16c014853",
   "metadata": {},
   "outputs": [
    {
     "name": "stdout",
     "output_type": "stream",
     "text": [
      "<class 'pandas.core.series.Series'>\n",
      "Int64Index: 963 entries, 0 to 2289\n",
      "Series name: Rate\n",
      "Non-Null Count  Dtype  \n",
      "--------------  -----  \n",
      "963 non-null    float64\n",
      "dtypes: float64(1)\n",
      "memory usage: 15.0 KB\n"
     ]
    }
   ],
   "source": [
    "# Inspect the 'Rate' column\n",
    "df['Rate'].info()"
   ]
  },
  {
   "cell_type": "code",
   "execution_count": 65,
   "id": "9b99efa4-6023-4b40-9183-628f942794e7",
   "metadata": {},
   "outputs": [
    {
     "data": {
      "text/plain": [
       "count    963.000000\n",
       "mean      84.005296\n",
       "std       13.236458\n",
       "min       32.500000\n",
       "25%       75.400000\n",
       "50%       84.300000\n",
       "75%       92.900000\n",
       "max      122.500000\n",
       "Name: Rate, dtype: float64"
      ]
     },
     "execution_count": 65,
     "metadata": {},
     "output_type": "execute_result"
    }
   ],
   "source": [
    "df['Rate'].describe()"
   ]
  },
  {
   "cell_type": "code",
   "execution_count": 66,
   "id": "bf1b5821-2aa9-4e4a-9593-d775d89761c3",
   "metadata": {},
   "outputs": [
    {
     "name": "stdout",
     "output_type": "stream",
     "text": [
      "<class 'pandas.core.series.Series'>\n",
      "Int64Index: 963 entries, 0 to 2289\n",
      "Series name: Sk\n",
      "Non-Null Count  Dtype  \n",
      "--------------  -----  \n",
      "963 non-null    float64\n",
      "dtypes: float64(1)\n",
      "memory usage: 15.0 KB\n"
     ]
    }
   ],
   "source": [
    "# Inspect the 'Sk' column\n",
    "df['Sk'].info()"
   ]
  },
  {
   "cell_type": "code",
   "execution_count": 67,
   "id": "6168a56e-a292-470c-9e7e-184da9ffa3c3",
   "metadata": {},
   "outputs": [
    {
     "data": {
      "text/plain": [
       "count    963.000000\n",
       "mean      25.428868\n",
       "std       11.964860\n",
       "min        2.000000\n",
       "25%       16.500000\n",
       "50%       25.000000\n",
       "75%       33.000000\n",
       "max       76.000000\n",
       "Name: Sk, dtype: float64"
      ]
     },
     "execution_count": 67,
     "metadata": {},
     "output_type": "execute_result"
    }
   ],
   "source": [
    "df['Sk'].describe()"
   ]
  },
  {
   "cell_type": "code",
   "execution_count": 68,
   "id": "60f5ec43-bb57-4b64-bd51-d6d6cc2e8620",
   "metadata": {},
   "outputs": [
    {
     "name": "stdout",
     "output_type": "stream",
     "text": [
      "<class 'pandas.core.series.Series'>\n",
      "Int64Index: 963 entries, 0 to 2289\n",
      "Series name: Sk\n",
      "Non-Null Count  Dtype\n",
      "--------------  -----\n",
      "963 non-null    int64\n",
      "dtypes: int64(1)\n",
      "memory usage: 15.0 KB\n"
     ]
    }
   ],
   "source": [
    "# Convert the 'Sk' column from float to int\n",
    "df['Sk'] = df['Sk'].astype(np.int64)\n",
    "\n",
    "df['Sk'].info()"
   ]
  },
  {
   "cell_type": "code",
   "execution_count": 69,
   "id": "a182aacf-76d5-4024-a18a-4bdb556908bc",
   "metadata": {},
   "outputs": [
    {
     "name": "stdout",
     "output_type": "stream",
     "text": [
      "<class 'pandas.core.series.Series'>\n",
      "Int64Index: 963 entries, 0 to 2289\n",
      "Series name: SkYds\n",
      "Non-Null Count  Dtype  \n",
      "--------------  -----  \n",
      "963 non-null    float64\n",
      "dtypes: float64(1)\n",
      "memory usage: 15.0 KB\n"
     ]
    }
   ],
   "source": [
    "# Change the 'Yds.1' column name to 'SkYds' for clarification\n",
    "df['SkYds'] = df['Yds.1']\n",
    "\n",
    "df['SkYds'].info()"
   ]
  },
  {
   "cell_type": "code",
   "execution_count": 70,
   "id": "be619652-aeb3-4bc2-af8b-7cbb9b16a8ae",
   "metadata": {},
   "outputs": [
    {
     "name": "stdout",
     "output_type": "stream",
     "text": [
      "<class 'pandas.core.frame.DataFrame'>\n",
      "Int64Index: 963 entries, 0 to 2289\n",
      "Data columns (total 36 columns):\n",
      " #   Column  Non-Null Count  Dtype  \n",
      "---  ------  --------------  -----  \n",
      " 0   Player  963 non-null    object \n",
      " 1   Age     963 non-null    int64  \n",
      " 2   Team    963 non-null    object \n",
      " 3   Pos     963 non-null    object \n",
      " 4   G       963 non-null    int64  \n",
      " 5   GS      963 non-null    int64  \n",
      " 6   QBrec   963 non-null    object \n",
      " 7   Cmp     963 non-null    int64  \n",
      " 8   Att     963 non-null    int64  \n",
      " 9   Cmp%    963 non-null    float64\n",
      " 10  Yds     963 non-null    int64  \n",
      " 11  TD      963 non-null    int64  \n",
      " 12  TD%     963 non-null    float64\n",
      " 13  Int     963 non-null    int64  \n",
      " 14  Int%    963 non-null    float64\n",
      " 15  1D      963 non-null    int64  \n",
      " 16  Succ%   963 non-null    float64\n",
      " 17  Lng     963 non-null    int64  \n",
      " 18  Y/A     963 non-null    float64\n",
      " 19  AY/A    963 non-null    float64\n",
      " 20  Y/C     963 non-null    float64\n",
      " 21  Y/G     963 non-null    float64\n",
      " 22  Rate    963 non-null    float64\n",
      " 23  Sk      963 non-null    int64  \n",
      " 24  Sk%     963 non-null    float64\n",
      " 25  NY/A    963 non-null    float64\n",
      " 26  ANY/A   963 non-null    float64\n",
      " 27  4QC     963 non-null    float64\n",
      " 28  GWD     963 non-null    float64\n",
      " 29  Awards  233 non-null    object \n",
      " 30  Year    963 non-null    int64  \n",
      " 31  QBR     732 non-null    float64\n",
      " 32  Wins    963 non-null    int64  \n",
      " 33  Losses  963 non-null    int64  \n",
      " 34  Ties    963 non-null    int64  \n",
      " 35  SkYds   963 non-null    float64\n",
      "dtypes: float64(16), int64(15), object(5)\n",
      "memory usage: 278.4+ KB\n"
     ]
    }
   ],
   "source": [
    "# Drop the 'Yds.1' column\n",
    "df = df.drop('Yds.1', axis=1)\n",
    "\n",
    "df.info()"
   ]
  },
  {
   "cell_type": "code",
   "execution_count": 71,
   "id": "1367f0ee-015b-41fa-9698-0538f02cfce8",
   "metadata": {},
   "outputs": [
    {
     "data": {
      "text/plain": [
       "count    963.000000\n",
       "mean     166.004154\n",
       "std       80.481658\n",
       "min       10.000000\n",
       "25%      104.000000\n",
       "50%      160.000000\n",
       "75%      217.000000\n",
       "max      477.000000\n",
       "Name: SkYds, dtype: float64"
      ]
     },
     "execution_count": 71,
     "metadata": {},
     "output_type": "execute_result"
    }
   ],
   "source": [
    "df['SkYds'].describe()"
   ]
  },
  {
   "cell_type": "code",
   "execution_count": 72,
   "id": "4732375f-b1ca-4cb1-be6c-42583a63b09a",
   "metadata": {},
   "outputs": [
    {
     "name": "stdout",
     "output_type": "stream",
     "text": [
      "<class 'pandas.core.series.Series'>\n",
      "Int64Index: 963 entries, 0 to 2289\n",
      "Series name: SkYds\n",
      "Non-Null Count  Dtype\n",
      "--------------  -----\n",
      "963 non-null    int64\n",
      "dtypes: int64(1)\n",
      "memory usage: 15.0 KB\n"
     ]
    }
   ],
   "source": [
    "# Convert the 'SkYds' column from float to int\n",
    "df['SkYds'] = df['SkYds'].astype(np.int64)\n",
    "\n",
    "df['SkYds'].info()"
   ]
  },
  {
   "cell_type": "code",
   "execution_count": 73,
   "id": "df45cf7b-e53c-410d-be2b-7f5c12fac286",
   "metadata": {},
   "outputs": [
    {
     "name": "stdout",
     "output_type": "stream",
     "text": [
      "<class 'pandas.core.series.Series'>\n",
      "Int64Index: 963 entries, 0 to 2289\n",
      "Series name: Sk%\n",
      "Non-Null Count  Dtype  \n",
      "--------------  -----  \n",
      "963 non-null    float64\n",
      "dtypes: float64(1)\n",
      "memory usage: 15.0 KB\n"
     ]
    }
   ],
   "source": [
    "# Inspect the 'Sk%' column\n",
    "df['Sk%'].info()"
   ]
  },
  {
   "cell_type": "code",
   "execution_count": 74,
   "id": "fb9382ed-00e5-465c-9d62-0d7d917c01b6",
   "metadata": {},
   "outputs": [
    {
     "data": {
      "text/plain": [
       "count    963.000000\n",
       "mean       6.636698\n",
       "std        2.444884\n",
       "min        1.600000\n",
       "25%        4.895000\n",
       "50%        6.330000\n",
       "75%        8.030000\n",
       "max       17.210000\n",
       "Name: Sk%, dtype: float64"
      ]
     },
     "execution_count": 74,
     "metadata": {},
     "output_type": "execute_result"
    }
   ],
   "source": [
    "df['Sk%'].describe()"
   ]
  },
  {
   "cell_type": "code",
   "execution_count": 75,
   "id": "84f16bab-a852-4c5d-9ee0-b2c8e3841e6b",
   "metadata": {},
   "outputs": [
    {
     "name": "stdout",
     "output_type": "stream",
     "text": [
      "<class 'pandas.core.series.Series'>\n",
      "Int64Index: 963 entries, 0 to 2289\n",
      "Series name: NY/A\n",
      "Non-Null Count  Dtype  \n",
      "--------------  -----  \n",
      "963 non-null    float64\n",
      "dtypes: float64(1)\n",
      "memory usage: 15.0 KB\n"
     ]
    }
   ],
   "source": [
    "# Inspect the 'NY/A' column\n",
    "df['NY/A'].info()"
   ]
  },
  {
   "cell_type": "code",
   "execution_count": 76,
   "id": "f88e9e14-7c56-4197-ae10-0a565035437b",
   "metadata": {},
   "outputs": [
    {
     "data": {
      "text/plain": [
       "count    963.000000\n",
       "mean       6.051038\n",
       "std        0.898353\n",
       "min        3.030000\n",
       "25%        5.475000\n",
       "50%        6.050000\n",
       "75%        6.670000\n",
       "max        8.810000\n",
       "Name: NY/A, dtype: float64"
      ]
     },
     "execution_count": 76,
     "metadata": {},
     "output_type": "execute_result"
    }
   ],
   "source": [
    "df['NY/A'].describe()"
   ]
  },
  {
   "cell_type": "code",
   "execution_count": 77,
   "id": "0b6e49f2-d2be-4976-8000-87aef349cc80",
   "metadata": {},
   "outputs": [
    {
     "name": "stdout",
     "output_type": "stream",
     "text": [
      "<class 'pandas.core.series.Series'>\n",
      "Int64Index: 963 entries, 0 to 2289\n",
      "Series name: ANY/A\n",
      "Non-Null Count  Dtype  \n",
      "--------------  -----  \n",
      "963 non-null    float64\n",
      "dtypes: float64(1)\n",
      "memory usage: 15.0 KB\n"
     ]
    }
   ],
   "source": [
    "# Inspect the 'ANY/A' column\n",
    "df['ANY/A'].info()"
   ]
  },
  {
   "cell_type": "code",
   "execution_count": 78,
   "id": "9b160721-6071-4db9-9a47-0780a8c03f1a",
   "metadata": {},
   "outputs": [
    {
     "data": {
      "text/plain": [
       "count    963.000000\n",
       "mean       5.640322\n",
       "std        1.335261\n",
       "min        1.100000\n",
       "25%        4.735000\n",
       "50%        5.670000\n",
       "75%        6.515000\n",
       "max        9.780000\n",
       "Name: ANY/A, dtype: float64"
      ]
     },
     "execution_count": 78,
     "metadata": {},
     "output_type": "execute_result"
    }
   ],
   "source": [
    "df['ANY/A'].describe()"
   ]
  },
  {
   "cell_type": "code",
   "execution_count": 79,
   "id": "6ec0eca6-fdfc-446e-9fe6-d385e0572856",
   "metadata": {},
   "outputs": [
    {
     "name": "stdout",
     "output_type": "stream",
     "text": [
      "<class 'pandas.core.series.Series'>\n",
      "Int64Index: 963 entries, 0 to 2289\n",
      "Series name: 4QC\n",
      "Non-Null Count  Dtype  \n",
      "--------------  -----  \n",
      "963 non-null    float64\n",
      "dtypes: float64(1)\n",
      "memory usage: 15.0 KB\n"
     ]
    }
   ],
   "source": [
    "# Inspect the '4QC' column\n",
    "df['4QC'].info()"
   ]
  },
  {
   "cell_type": "code",
   "execution_count": 80,
   "id": "42a23bb8-d965-47ac-8395-27d5b1dca998",
   "metadata": {},
   "outputs": [
    {
     "data": {
      "text/plain": [
       "count    963.000000\n",
       "mean       1.384216\n",
       "std        1.307201\n",
       "min        0.000000\n",
       "25%        0.000000\n",
       "50%        1.000000\n",
       "75%        2.000000\n",
       "max        8.000000\n",
       "Name: 4QC, dtype: float64"
      ]
     },
     "execution_count": 80,
     "metadata": {},
     "output_type": "execute_result"
    }
   ],
   "source": [
    "df['4QC'].describe()"
   ]
  },
  {
   "cell_type": "code",
   "execution_count": 81,
   "id": "221b2f14-eb35-44fd-a9e0-0d251a131e21",
   "metadata": {},
   "outputs": [
    {
     "name": "stdout",
     "output_type": "stream",
     "text": [
      "<class 'pandas.core.series.Series'>\n",
      "Int64Index: 963 entries, 0 to 2289\n",
      "Series name: 4QC\n",
      "Non-Null Count  Dtype\n",
      "--------------  -----\n",
      "963 non-null    int64\n",
      "dtypes: int64(1)\n",
      "memory usage: 15.0 KB\n"
     ]
    }
   ],
   "source": [
    "#Convert the '4QC' column from float to int\n",
    "df['4QC'] = df['4QC'].astype(np.int64)\n",
    "\n",
    "df['4QC'].info()"
   ]
  },
  {
   "cell_type": "code",
   "execution_count": 82,
   "id": "5ebb9c7a-8057-4737-b45f-67943ed76a64",
   "metadata": {},
   "outputs": [
    {
     "name": "stdout",
     "output_type": "stream",
     "text": [
      "<class 'pandas.core.series.Series'>\n",
      "Int64Index: 963 entries, 0 to 2289\n",
      "Series name: GWD\n",
      "Non-Null Count  Dtype  \n",
      "--------------  -----  \n",
      "963 non-null    float64\n",
      "dtypes: float64(1)\n",
      "memory usage: 15.0 KB\n"
     ]
    }
   ],
   "source": [
    "# Inspect the 'GWD' column\n",
    "df['GWD'].info()"
   ]
  },
  {
   "cell_type": "code",
   "execution_count": 83,
   "id": "6f3a2e04-24f1-4548-88dc-7e7c6485debc",
   "metadata": {},
   "outputs": [
    {
     "data": {
      "text/plain": [
       "count    963.000000\n",
       "mean       1.801661\n",
       "std        1.504366\n",
       "min        0.000000\n",
       "25%        1.000000\n",
       "50%        2.000000\n",
       "75%        3.000000\n",
       "max        8.000000\n",
       "Name: GWD, dtype: float64"
      ]
     },
     "execution_count": 83,
     "metadata": {},
     "output_type": "execute_result"
    }
   ],
   "source": [
    "df['GWD'].describe()"
   ]
  },
  {
   "cell_type": "code",
   "execution_count": 84,
   "id": "12f2b6a0-9fa3-4c5b-b0f2-5b4ac6ec6524",
   "metadata": {},
   "outputs": [
    {
     "name": "stdout",
     "output_type": "stream",
     "text": [
      "<class 'pandas.core.series.Series'>\n",
      "Int64Index: 963 entries, 0 to 2289\n",
      "Series name: GWD\n",
      "Non-Null Count  Dtype\n",
      "--------------  -----\n",
      "963 non-null    int64\n",
      "dtypes: int64(1)\n",
      "memory usage: 15.0 KB\n"
     ]
    }
   ],
   "source": [
    "#Convert the 'GWD' column from float to int\n",
    "df['GWD'] = df['GWD'].astype(np.int64)\n",
    "\n",
    "df['GWD'].info()"
   ]
  },
  {
   "cell_type": "code",
   "execution_count": 85,
   "id": "edfc7e9d-d1d8-4ec0-a013-995481fd8b92",
   "metadata": {},
   "outputs": [
    {
     "name": "stdout",
     "output_type": "stream",
     "text": [
      "<class 'pandas.core.series.Series'>\n",
      "Int64Index: 963 entries, 0 to 2289\n",
      "Series name: Awards\n",
      "Non-Null Count  Dtype \n",
      "--------------  ----- \n",
      "233 non-null    object\n",
      "dtypes: object(1)\n",
      "memory usage: 15.0+ KB\n"
     ]
    }
   ],
   "source": [
    "# Inspect the 'Awards' column\n",
    "df['Awards'].info()"
   ]
  },
  {
   "cell_type": "code",
   "execution_count": 86,
   "id": "e31c7c7b-fcb4-4d0d-9ba4-a357ed498b1c",
   "metadata": {},
   "outputs": [],
   "source": [
    "# Initialize columns for each award\n",
    "df['PB'] = 0\n",
    "df['AP'] = 0\n",
    "df['MVP'] = 0\n",
    "df['CPoY'] = 0\n",
    "df['ORoY'] = 0"
   ]
  },
  {
   "cell_type": "code",
   "execution_count": 89,
   "id": "489db577-6498-416e-b6d4-af49eb6d304e",
   "metadata": {},
   "outputs": [],
   "source": [
    "# Function to generate values for individual award columns\n",
    "def parse_awards(awards_str):\n",
    "    if isinstance(awards_str, str):\n",
    "        awards = awards_str.split(',')\n",
    "        pb = 1 if 'PB' in awards else 0\n",
    "        ap = 0\n",
    "        mvp = 0\n",
    "        cpoy = 0\n",
    "        oroy = 0\n",
    "    \n",
    "        for award in awards:\n",
    "            if 'AP-' in award:\n",
    "                ap = int(award.split('-')[1])\n",
    "            elif 'AP MVP-' in award:\n",
    "                mvp = int(award.split('-')[1])\n",
    "            elif 'AP CPoY-' in award:\n",
    "                cpoy = int(award.split('-')[1])\n",
    "            elif 'AP ORoY-' in award:\n",
    "                oroy = int(award.split('-')[1])\n",
    "    \n",
    "        return pd.Series([pb, ap, mvp, cpoy, oroy])\n",
    "\n",
    "    else:\n",
    "        # If awards_str is not a string (e.g., it's NaN), return default values\n",
    "        return pd.Series([0, 0, 0, 0, 0])"
   ]
  },
  {
   "cell_type": "code",
   "execution_count": 90,
   "id": "972025e5-482d-44fd-bee6-3bf2f86fb5da",
   "metadata": {},
   "outputs": [
    {
     "name": "stdout",
     "output_type": "stream",
     "text": [
      "<class 'pandas.core.frame.DataFrame'>\n",
      "Int64Index: 963 entries, 0 to 2289\n",
      "Data columns (total 41 columns):\n",
      " #   Column  Non-Null Count  Dtype  \n",
      "---  ------  --------------  -----  \n",
      " 0   Player  963 non-null    object \n",
      " 1   Age     963 non-null    int64  \n",
      " 2   Team    963 non-null    object \n",
      " 3   Pos     963 non-null    object \n",
      " 4   G       963 non-null    int64  \n",
      " 5   GS      963 non-null    int64  \n",
      " 6   QBrec   963 non-null    object \n",
      " 7   Cmp     963 non-null    int64  \n",
      " 8   Att     963 non-null    int64  \n",
      " 9   Cmp%    963 non-null    float64\n",
      " 10  Yds     963 non-null    int64  \n",
      " 11  TD      963 non-null    int64  \n",
      " 12  TD%     963 non-null    float64\n",
      " 13  Int     963 non-null    int64  \n",
      " 14  Int%    963 non-null    float64\n",
      " 15  1D      963 non-null    int64  \n",
      " 16  Succ%   963 non-null    float64\n",
      " 17  Lng     963 non-null    int64  \n",
      " 18  Y/A     963 non-null    float64\n",
      " 19  AY/A    963 non-null    float64\n",
      " 20  Y/C     963 non-null    float64\n",
      " 21  Y/G     963 non-null    float64\n",
      " 22  Rate    963 non-null    float64\n",
      " 23  Sk      963 non-null    int64  \n",
      " 24  Sk%     963 non-null    float64\n",
      " 25  NY/A    963 non-null    float64\n",
      " 26  ANY/A   963 non-null    float64\n",
      " 27  4QC     963 non-null    int64  \n",
      " 28  GWD     963 non-null    int64  \n",
      " 29  Awards  233 non-null    object \n",
      " 30  Year    963 non-null    int64  \n",
      " 31  QBR     732 non-null    float64\n",
      " 32  Wins    963 non-null    int64  \n",
      " 33  Losses  963 non-null    int64  \n",
      " 34  Ties    963 non-null    int64  \n",
      " 35  SkYds   963 non-null    int64  \n",
      " 36  PB      963 non-null    int64  \n",
      " 37  AP      963 non-null    int64  \n",
      " 38  MVP     963 non-null    int64  \n",
      " 39  CPoY    963 non-null    int64  \n",
      " 40  ORoY    963 non-null    int64  \n",
      "dtypes: float64(13), int64(23), object(5)\n",
      "memory usage: 316.0+ KB\n"
     ]
    }
   ],
   "source": [
    "# Apply the parse_awards function to populate columns for individual awards\n",
    "df[['PB', 'AP', 'MVP', 'CPoY', 'ORoY']] = df['Awards'].apply(parse_awards)\n",
    "\n",
    "df.info()"
   ]
  },
  {
   "cell_type": "code",
   "execution_count": 91,
   "id": "a1d86994-6e63-4626-a867-4a805c5ef656",
   "metadata": {},
   "outputs": [
    {
     "data": {
      "text/plain": [
       "count    963.000000\n",
       "mean       0.197300\n",
       "std        0.398168\n",
       "min        0.000000\n",
       "25%        0.000000\n",
       "50%        0.000000\n",
       "75%        0.000000\n",
       "max        1.000000\n",
       "Name: PB, dtype: float64"
      ]
     },
     "execution_count": 91,
     "metadata": {},
     "output_type": "execute_result"
    }
   ],
   "source": [
    "# Inspect the 'PB' column\n",
    "df['PB'].describe()"
   ]
  },
  {
   "cell_type": "code",
   "execution_count": 92,
   "id": "c8c50d42-9cc5-485f-abe2-9e92e4ab8b96",
   "metadata": {},
   "outputs": [
    {
     "data": {
      "text/plain": [
       "count    963.000000\n",
       "mean       0.064382\n",
       "std        0.319186\n",
       "min        0.000000\n",
       "25%        0.000000\n",
       "50%        0.000000\n",
       "75%        0.000000\n",
       "max        2.000000\n",
       "Name: AP, dtype: float64"
      ]
     },
     "execution_count": 92,
     "metadata": {},
     "output_type": "execute_result"
    }
   ],
   "source": [
    "# Inspect the 'AP' column\n",
    "df['AP'].describe()"
   ]
  },
  {
   "cell_type": "code",
   "execution_count": 93,
   "id": "eb7bae3f-3d7c-4065-8aef-7863accc0bcb",
   "metadata": {},
   "outputs": [
    {
     "data": {
      "text/plain": [
       "count    963.000000\n",
       "mean       0.212876\n",
       "std        1.003818\n",
       "min        0.000000\n",
       "25%        0.000000\n",
       "50%        0.000000\n",
       "75%        0.000000\n",
       "max        9.000000\n",
       "Name: MVP, dtype: float64"
      ]
     },
     "execution_count": 93,
     "metadata": {},
     "output_type": "execute_result"
    }
   ],
   "source": [
    "# Inspect the 'MVP' column\n",
    "df['MVP'].describe()"
   ]
  },
  {
   "cell_type": "code",
   "execution_count": 94,
   "id": "19c4397a-18d7-402f-9b6b-87d13d0c23be",
   "metadata": {},
   "outputs": [
    {
     "data": {
      "text/plain": [
       "count    963.000000\n",
       "mean       0.218069\n",
       "std        1.116036\n",
       "min        0.000000\n",
       "25%        0.000000\n",
       "50%        0.000000\n",
       "75%        0.000000\n",
       "max       12.000000\n",
       "Name: CPoY, dtype: float64"
      ]
     },
     "execution_count": 94,
     "metadata": {},
     "output_type": "execute_result"
    }
   ],
   "source": [
    "# Inspect the 'CPoY' column\n",
    "df['CPoY'].describe()"
   ]
  },
  {
   "cell_type": "code",
   "execution_count": 95,
   "id": "19eb544b-cfb3-47ba-9a2d-7c91c24ce99b",
   "metadata": {},
   "outputs": [
    {
     "data": {
      "text/plain": [
       "count    963.000000\n",
       "mean       0.039460\n",
       "std        0.323219\n",
       "min        0.000000\n",
       "25%        0.000000\n",
       "50%        0.000000\n",
       "75%        0.000000\n",
       "max        6.000000\n",
       "Name: ORoY, dtype: float64"
      ]
     },
     "execution_count": 95,
     "metadata": {},
     "output_type": "execute_result"
    }
   ],
   "source": [
    "# Inspect the 'ORoY' column\n",
    "df['ORoY'].describe()"
   ]
  },
  {
   "cell_type": "code",
   "execution_count": 96,
   "id": "c8f1c5c7-1409-4b8e-bdb7-735876f25355",
   "metadata": {},
   "outputs": [
    {
     "name": "stdout",
     "output_type": "stream",
     "text": [
      "<class 'pandas.core.frame.DataFrame'>\n",
      "Int64Index: 963 entries, 0 to 2289\n",
      "Data columns (total 40 columns):\n",
      " #   Column  Non-Null Count  Dtype  \n",
      "---  ------  --------------  -----  \n",
      " 0   Player  963 non-null    object \n",
      " 1   Age     963 non-null    int64  \n",
      " 2   Team    963 non-null    object \n",
      " 3   Pos     963 non-null    object \n",
      " 4   G       963 non-null    int64  \n",
      " 5   GS      963 non-null    int64  \n",
      " 6   QBrec   963 non-null    object \n",
      " 7   Cmp     963 non-null    int64  \n",
      " 8   Att     963 non-null    int64  \n",
      " 9   Cmp%    963 non-null    float64\n",
      " 10  Yds     963 non-null    int64  \n",
      " 11  TD      963 non-null    int64  \n",
      " 12  TD%     963 non-null    float64\n",
      " 13  Int     963 non-null    int64  \n",
      " 14  Int%    963 non-null    float64\n",
      " 15  1D      963 non-null    int64  \n",
      " 16  Succ%   963 non-null    float64\n",
      " 17  Lng     963 non-null    int64  \n",
      " 18  Y/A     963 non-null    float64\n",
      " 19  AY/A    963 non-null    float64\n",
      " 20  Y/C     963 non-null    float64\n",
      " 21  Y/G     963 non-null    float64\n",
      " 22  Rate    963 non-null    float64\n",
      " 23  Sk      963 non-null    int64  \n",
      " 24  Sk%     963 non-null    float64\n",
      " 25  NY/A    963 non-null    float64\n",
      " 26  ANY/A   963 non-null    float64\n",
      " 27  4QC     963 non-null    int64  \n",
      " 28  GWD     963 non-null    int64  \n",
      " 29  Year    963 non-null    int64  \n",
      " 30  QBR     732 non-null    float64\n",
      " 31  Wins    963 non-null    int64  \n",
      " 32  Losses  963 non-null    int64  \n",
      " 33  Ties    963 non-null    int64  \n",
      " 34  SkYds   963 non-null    int64  \n",
      " 35  PB      963 non-null    int64  \n",
      " 36  AP      963 non-null    int64  \n",
      " 37  MVP     963 non-null    int64  \n",
      " 38  CPoY    963 non-null    int64  \n",
      " 39  ORoY    963 non-null    int64  \n",
      "dtypes: float64(13), int64(23), object(4)\n",
      "memory usage: 308.5+ KB\n"
     ]
    }
   ],
   "source": [
    "# Drop the 'Awards' column\n",
    "df = df.drop('Awards', axis=1)\n",
    "\n",
    "df.info()"
   ]
  },
  {
   "cell_type": "code",
   "execution_count": 97,
   "id": "8a5d2db5-b15e-4514-b634-1646163ff82f",
   "metadata": {},
   "outputs": [
    {
     "data": {
      "text/plain": [
       "count     963.000000\n",
       "mean     2012.226376\n",
       "std         6.789120\n",
       "min      2001.000000\n",
       "25%      2006.000000\n",
       "50%      2013.000000\n",
       "75%      2018.000000\n",
       "max      2023.000000\n",
       "Name: Year, dtype: float64"
      ]
     },
     "execution_count": 97,
     "metadata": {},
     "output_type": "execute_result"
    }
   ],
   "source": [
    "# Inspect the 'Year' column\n",
    "df['Year'].describe()"
   ]
  },
  {
   "cell_type": "code",
   "execution_count": 98,
   "id": "b28abd13-b357-4da4-b26d-84e370b29e13",
   "metadata": {},
   "outputs": [
    {
     "data": {
      "text/plain": [
       "count    732.000000\n",
       "mean      51.997951\n",
       "std       14.677905\n",
       "min        0.500000\n",
       "25%       42.375000\n",
       "50%       52.450000\n",
       "75%       62.600000\n",
       "max      100.000000\n",
       "Name: QBR, dtype: float64"
      ]
     },
     "execution_count": 98,
     "metadata": {},
     "output_type": "execute_result"
    }
   ],
   "source": [
    "# Inspect the 'QBR' column\n",
    "df['QBR'].describe()"
   ]
  }
 ],
 "metadata": {
  "kernelspec": {
   "display_name": "Python 3 (ipykernel)",
   "language": "python",
   "name": "python3"
  },
  "language_info": {
   "codemirror_mode": {
    "name": "ipython",
    "version": 3
   },
   "file_extension": ".py",
   "mimetype": "text/x-python",
   "name": "python",
   "nbconvert_exporter": "python",
   "pygments_lexer": "ipython3",
   "version": "3.9.19"
  }
 },
 "nbformat": 4,
 "nbformat_minor": 5
}
